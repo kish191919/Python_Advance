{
 "cells": [
  {
   "cell_type": "code",
   "execution_count": 22,
   "id": "d3206341",
   "metadata": {},
   "outputs": [
    {
     "name": "stdout",
     "output_type": "stream",
     "text": [
      "[50, 32, 40, 90, 71, 1, 48, 74, 86, 16, 73, 0, 12, 52, 41, 28, 6, 97, 64, 26, 53, 18, 77, 49, 60, 30, 67, 33, 46, 13, 38, 65, 36, 84, 85, 57, 56, 5, 47, 93, 79, 98, 2, 70, 61, 23, 22, 96, 54, 15]\n",
      "([0, 1, 2, 5, 6, 12, 13, 15, 16, 18, 22, 23, 26, 28, 30, 32, 33, 36, 38, 40, 41, 46, 47, 48, 49, 50, 52, 53, 54, 56, 57, 60, 61, 64, 65, 67, 70, 71, 73, 74, 77, 79, 84, 85, 86, 90, 93, 96, 97, 98], 1225)\n"
     ]
    }
   ],
   "source": [
    "def bubble(data):\n",
    "    count =0\n",
    "    for index in range(len(data)-1):\n",
    "        swap = False\n",
    "        for index2 in range(len(data)-index-1):\n",
    "            count +=1\n",
    "            if data[index2] > data[index2+1]:\n",
    "                data[index2], data[index2+1] = data[index2+1],data[index2]\n",
    "                swap = True\n",
    "        if swap == False:\n",
    "            break\n",
    "                \n",
    "    return data, count\n",
    "\n",
    "import random\n",
    "\n",
    "data_list = random.sample(range(100),50)\n",
    "print(data_list)\n",
    "print(bubble(data_list))\n",
    "                "
   ]
  },
  {
   "cell_type": "code",
   "execution_count": 31,
   "id": "e91146ff",
   "metadata": {},
   "outputs": [
    {
     "name": "stdout",
     "output_type": "stream",
     "text": [
      "[62, 87, 24, 98, 37, 11, 70, 17, 90, 9, 64, 58, 99, 84, 52, 7, 63, 10, 66, 56, 61, 18, 32, 1, 96, 20, 38, 68, 3, 25, 86, 46, 12, 0, 43, 79, 8, 4, 92, 48, 73, 36, 14, 83, 95, 69, 23, 60, 13, 30]\n",
      "([0, 1, 3, 4, 7, 8, 9, 10, 11, 12, 13, 14, 17, 18, 20, 23, 24, 25, 30, 32, 36, 37, 38, 43, 46, 48, 52, 56, 58, 60, 61, 62, 63, 64, 66, 68, 69, 70, 73, 79, 83, 84, 86, 87, 90, 92, 95, 96, 98, 99], 705)\n"
     ]
    }
   ],
   "source": [
    "def insert_sort(data):\n",
    "    count = 0\n",
    "    for index in range(len(data)-1):\n",
    "\n",
    "        for index2 in range(index+1, 0, -1):\n",
    "            count += 1\n",
    "            if data[index2-1] > data[index2]:\n",
    "                data[index2-1],data[index2] = data[index2],data[index2-1]\n",
    "            else:\n",
    "                break\n",
    "    return data, count\n",
    "                \n",
    "            \n",
    "data_list = random.sample(range(100),50)\n",
    "print(data_list)\n",
    "print(insert_sort(data_list))"
   ]
  },
  {
   "cell_type": "code",
   "execution_count": 33,
   "id": "d049b6e9",
   "metadata": {},
   "outputs": [
    {
     "name": "stdout",
     "output_type": "stream",
     "text": [
      "[12, 68, 86, 25, 47, 99, 96, 97, 50, 90, 11, 19, 64, 46, 21, 8, 31, 0, 45, 88, 10, 56, 69, 24, 94, 59, 77, 44, 4, 15, 57, 37, 70, 58, 75, 13, 92, 20, 35, 30, 3, 89, 26, 41, 87, 61, 71, 34, 36, 52]\n",
      "([0, 3, 4, 8, 10, 11, 12, 13, 15, 19, 20, 21, 24, 25, 26, 30, 46, 31, 34, 35, 36, 37, 41, 44, 45, 47, 50, 52, 56, 57, 58, 59, 61, 64, 68, 69, 70, 71, 75, 77, 86, 87, 88, 89, 90, 97, 92, 99, 94, 96], 1225)\n"
     ]
    }
   ],
   "source": [
    "def select_sort(data):\n",
    "    count = 0\n",
    "    for index in range(len(data)-1):\n",
    "        min_num = data[index]\n",
    "        for index2 in range(index+1, len(data)):\n",
    "            count += 1\n",
    "            if min_num > data[index2]:\n",
    "                min_num = data[index2]\n",
    "                min_index = index2\n",
    "                swap = True\n",
    "        if swap == True:    \n",
    "            data[index], data[min_index] =  data[min_index], data[index]\n",
    "    return data, count\n",
    "\n",
    "\n",
    "data_list = random.sample(range(100),50)\n",
    "print(data_list)\n",
    "print(select_sort(data_list))          \n",
    "            "
   ]
  },
  {
   "cell_type": "code",
   "execution_count": 34,
   "id": "95adbba0",
   "metadata": {},
   "outputs": [
    {
     "name": "stdout",
     "output_type": "stream",
     "text": [
      "[29, 49, 21, 66, 10, 36, 75, 24, 71, 68, 59, 15, 55, 76, 64, 9, 56, 16, 77, 34, 26, 32, 30, 1, 13, 50, 17, 72, 42, 61, 93, 25, 2, 88, 53, 0, 90, 4, 54, 96, 67, 89, 92, 94, 40, 65, 80, 6, 22, 82]\n",
      "([0, 1, 2, 4, 6, 9, 10, 13, 15, 16, 17, 21, 22, 24, 25, 26, 29, 30, 32, 34, 36, 40, 42, 49, 50, 53, 54, 55, 56, 59, 61, 64, 65, 66, 67, 68, 71, 72, 75, 76, 77, 80, 82, 88, 89, 90, 92, 93, 94, 96], 1225)\n"
     ]
    }
   ],
   "source": [
    "def selection_sort(data):\n",
    "    count = 0\n",
    "    for stand in range(len(data) - 1):\n",
    "        lowest = stand\n",
    "        for index in range(stand + 1, len(data)):\n",
    "            count += 1\n",
    "            if data[lowest] > data[index]:\n",
    "                lowest = index\n",
    "        data[lowest], data[stand] = data[stand], data[lowest]\n",
    "    return data, count\n",
    "\n",
    "data_list = random.sample(range(100),50)\n",
    "print(data_list)\n",
    "print(selection_sort(data_list))    "
   ]
  },
  {
   "cell_type": "code",
   "execution_count": 36,
   "id": "1970fca5",
   "metadata": {},
   "outputs": [
    {
     "data": {
      "text/plain": [
       "120"
      ]
     },
     "execution_count": 36,
     "metadata": {},
     "output_type": "execute_result"
    }
   ],
   "source": [
    "def factorial(n):\n",
    "    if n > 1:\n",
    "        return n * factorial(n-1)\n",
    "    else:\n",
    "        return 1\n",
    "    \n",
    "factorial(5)"
   ]
  },
  {
   "cell_type": "code",
   "execution_count": 38,
   "id": "72e8f05d",
   "metadata": {},
   "outputs": [
    {
     "name": "stdout",
     "output_type": "stream",
     "text": [
      "1\n",
      "1\n",
      "2\n",
      "6\n",
      "24\n",
      "120\n",
      "720\n",
      "5040\n",
      "40320\n",
      "362880\n"
     ]
    }
   ],
   "source": [
    "for num in range(10):\n",
    "    print(factorial(num))"
   ]
  },
  {
   "cell_type": "code",
   "execution_count": 39,
   "id": "ffda1c54",
   "metadata": {},
   "outputs": [
    {
     "name": "stdout",
     "output_type": "stream",
     "text": [
      "1\n",
      "1\n",
      "2\n",
      "6\n",
      "24\n",
      "120\n",
      "720\n",
      "5040\n",
      "40320\n",
      "362880\n"
     ]
    }
   ],
   "source": [
    "def multiple(num):\n",
    "    return_value = 1\n",
    "    for index in range(1,num+1):\n",
    "        return_value = return_value * index\n",
    "    return return_value\n",
    "\n",
    "for num in range(10):\n",
    "    print(multiple(num))\n",
    "    "
   ]
  },
  {
   "cell_type": "code",
   "execution_count": 42,
   "id": "67bdd277",
   "metadata": {},
   "outputs": [
    {
     "name": "stdout",
     "output_type": "stream",
     "text": [
      "0\n",
      "1\n",
      "1\n",
      "2\n",
      "3\n",
      "5\n",
      "8\n",
      "13\n",
      "21\n",
      "34\n"
     ]
    }
   ],
   "source": [
    "def fibo(num):\n",
    "    if num < 2:\n",
    "        return num\n",
    "    return fibo(num-1) + fibo(num-2)\n",
    "\n",
    "for num in range(10):\n",
    "    print(fibo(num))"
   ]
  },
  {
   "cell_type": "code",
   "execution_count": 44,
   "id": "8f9d76ad",
   "metadata": {},
   "outputs": [
    {
     "name": "stdout",
     "output_type": "stream",
     "text": [
      "55\n"
     ]
    }
   ],
   "source": [
    "print(fibo(10))"
   ]
  },
  {
   "cell_type": "code",
   "execution_count": 43,
   "id": "1428385d",
   "metadata": {},
   "outputs": [
    {
     "name": "stdout",
     "output_type": "stream",
     "text": [
      "55\n"
     ]
    }
   ],
   "source": [
    "def fibo_dp(num):\n",
    "    cache = [0 for index in range(num +1)]\n",
    "    cache[0] = 0\n",
    "    cache[1] = 1\n",
    "    \n",
    "    for index in range(2, num+1):\n",
    "        cache[index] = cache[index-1] + cache[index-2]\n",
    "    return cache[num]\n",
    "\n",
    "print(fibo_dp(10))"
   ]
  },
  {
   "cell_type": "code",
   "execution_count": 46,
   "id": "505970b4",
   "metadata": {},
   "outputs": [
    {
     "name": "stdout",
     "output_type": "stream",
     "text": [
      "9\n",
      "55\n"
     ]
    }
   ],
   "source": [
    "# 동적 계획법 1\n",
    "n = int(input())\n",
    "dp = [0] * 1001\n",
    "\n",
    "dp[1] = 1\n",
    "dp[2] = 2\n",
    "\n",
    "for index in range(3,1000):\n",
    "    dp[index] = dp[index -1] + dp[index -2]\n",
    "print(dp[n] % 10007)\n",
    "\n"
   ]
  },
  {
   "cell_type": "code",
   "execution_count": 47,
   "id": "964239d3",
   "metadata": {},
   "outputs": [
    {
     "name": "stdout",
     "output_type": "stream",
     "text": [
      "3\n",
      "16\n"
     ]
    }
   ],
   "source": [
    "# 동적 계획법 2\n",
    "\n",
    "dp = [0] * 101\n",
    "dp[1] = 1\n",
    "dp[2] = 1\n",
    "dp[3] = 1\n",
    "\n",
    "for index in range(0,98):\n",
    "    dp[index +3] = dp[index] + dp[index +1]\n",
    "print(dp[6])\n",
    "print(dp[12])\n"
   ]
  },
  {
   "cell_type": "code",
   "execution_count": 63,
   "id": "a9593791",
   "metadata": {},
   "outputs": [
    {
     "name": "stdout",
     "output_type": "stream",
     "text": [
      "40\n",
      "0\n",
      "1\n",
      "2\n"
     ]
    }
   ],
   "source": [
    "print(5<<3)\n",
    "print(5>>4)\n",
    "print(5>>2)\n",
    "print(5>>1)"
   ]
  },
  {
   "cell_type": "code",
   "execution_count": 56,
   "id": "34b1d8f9",
   "metadata": {},
   "outputs": [
    {
     "data": {
      "text/plain": [
       "'1'"
      ]
     },
     "execution_count": 56,
     "metadata": {},
     "output_type": "execute_result"
    }
   ],
   "source": [
    "format(1,'b')"
   ]
  },
  {
   "cell_type": "code",
   "execution_count": 57,
   "id": "42c2e3c2",
   "metadata": {},
   "outputs": [
    {
     "data": {
      "text/plain": [
       "'0'"
      ]
     },
     "execution_count": 57,
     "metadata": {},
     "output_type": "execute_result"
    }
   ],
   "source": [
    "format(0,'b')"
   ]
  },
  {
   "cell_type": "code",
   "execution_count": 58,
   "id": "4e12d14f",
   "metadata": {},
   "outputs": [
    {
     "data": {
      "text/plain": [
       "'11'"
      ]
     },
     "execution_count": 58,
     "metadata": {},
     "output_type": "execute_result"
    }
   ],
   "source": [
    "format(3,'b')"
   ]
  },
  {
   "cell_type": "code",
   "execution_count": 61,
   "id": "2fe38bd5",
   "metadata": {},
   "outputs": [],
   "source": [
    "def countBits(n: int):\n",
    "    res = []\n",
    "    for i in range(n+1):\n",
    "        res.append(format(i, 'b').count('1'))\n",
    "    return res"
   ]
  },
  {
   "cell_type": "code",
   "execution_count": 62,
   "id": "c365c498",
   "metadata": {},
   "outputs": [
    {
     "name": "stdout",
     "output_type": "stream",
     "text": [
      "[0, 1, 1, 2, 1, 2, 2, 3, 1, 2, 2]\n"
     ]
    }
   ],
   "source": [
    "print(countBits(10))"
   ]
  },
  {
   "cell_type": "markdown",
   "id": "d477f805",
   "metadata": {},
   "source": [
    ">>> format(42, 'b')\n",
    "'101010'\n",
    ">>> format(42, 'o')\n",
    "'52'\n",
    ">>> format(42, 'x')\n",
    "'2a'\n",
    ">>> format(42, 'X')\n",
    "'2A'\n",
    ">>> format(42, 'd')\n",
    "'42'"
   ]
  },
  {
   "cell_type": "code",
   "execution_count": 64,
   "id": "bf014f17",
   "metadata": {},
   "outputs": [
    {
     "name": "stdout",
     "output_type": "stream",
     "text": [
      "55\n"
     ]
    }
   ],
   "source": [
    "def fibo(num):\n",
    "    if num <= 1:\n",
    "        return num\n",
    "    return fibo(num-1) + fibo(num-2)\n",
    "\n",
    "print(fibo(10))"
   ]
  },
  {
   "cell_type": "code",
   "execution_count": 65,
   "id": "ea7740b0",
   "metadata": {},
   "outputs": [],
   "source": [
    "def fibo(num):\n",
    "    cache = [0 for index in range(num+1)]\n",
    "    cache[0] = 0\n",
    "    cache[1] = 1\n",
    "    for index in range(2, num+1):\n",
    "        cache[index] = cache[index-1]+cache[index-2]\n",
    "    return cache"
   ]
  },
  {
   "cell_type": "code",
   "execution_count": 66,
   "id": "bf3b59ac",
   "metadata": {},
   "outputs": [
    {
     "data": {
      "text/plain": [
       "[0, 1, 1, 2, 3, 5, 8, 13, 21, 34, 55]"
      ]
     },
     "execution_count": 66,
     "metadata": {},
     "output_type": "execute_result"
    }
   ],
   "source": [
    "fibo(10)"
   ]
  },
  {
   "cell_type": "markdown",
   "id": "52ecad12",
   "metadata": {},
   "source": [
    "![image](https://user-images.githubusercontent.com/26552500/192069814-2ed24bf8-99f3-4ebb-9768-d0b4807af0fb.png)"
   ]
  },
  {
   "cell_type": "code",
   "execution_count": 67,
   "id": "a58c9bc1",
   "metadata": {},
   "outputs": [],
   "source": [
    "def solution(numbers, left, right):\n",
    "    ret = []\n",
    "    for index in range(len(numbers)):\n",
    "        num = numbers[index]\n",
    "        m,n = divmod(num,index+1)\n",
    "        if n !=0:\n",
    "            ret.append(False)\n",
    "        else:\n",
    "            if (left <= m) and (m <= right):\n",
    "                ret.append(True)\n",
    "            else:\n",
    "                ret.append(False)\n",
    "    return ret"
   ]
  },
  {
   "cell_type": "markdown",
   "id": "0e8ffddf",
   "metadata": {},
   "source": [
    "\n",
    "![image](https://user-images.githubusercontent.com/26552500/192070205-c5557954-4f69-4567-aba2-dcf154635d9d.png)"
   ]
  },
  {
   "cell_type": "code",
   "execution_count": null,
   "id": "1264554c",
   "metadata": {},
   "outputs": [],
   "source": [
    "def solution(a, b, k):\n",
    "    count = 0\n",
    "    for i, j in zip(a, b[::-1]):\n",
    "        num = int(str(i)+str(j))\n",
    "        if num < k:\n",
    "            count +=1\n",
    "    return count"
   ]
  }
 ],
 "metadata": {
  "kernelspec": {
   "display_name": "Python 3 (ipykernel)",
   "language": "python",
   "name": "python3"
  },
  "language_info": {
   "codemirror_mode": {
    "name": "ipython",
    "version": 3
   },
   "file_extension": ".py",
   "mimetype": "text/x-python",
   "name": "python",
   "nbconvert_exporter": "python",
   "pygments_lexer": "ipython3",
   "version": "3.7.5"
  }
 },
 "nbformat": 4,
 "nbformat_minor": 5
}
