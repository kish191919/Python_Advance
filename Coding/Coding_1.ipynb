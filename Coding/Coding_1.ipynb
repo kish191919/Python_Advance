{
 "cells": [
  {
   "cell_type": "markdown",
   "id": "d096cc75",
   "metadata": {},
   "source": [
    "## Integer"
   ]
  },
  {
   "cell_type": "code",
   "execution_count": 14,
   "id": "4932ad78",
   "metadata": {},
   "outputs": [
    {
     "name": "stdout",
     "output_type": "stream",
     "text": [
      "2.857142857142857\n",
      "2\n",
      "6\n",
      "(2, 6)\n"
     ]
    }
   ],
   "source": [
    "# 나눗셈 - 목과 나머지\n",
    "print(20/7)\n",
    "\n",
    "# 목만 나옴\n",
    "print(20//7)\n",
    "\n",
    "# 나머지\n",
    "print(20%7)\n",
    "\n",
    "# 안전하게 목과 나머지 구함\n",
    "print(divmod(20,7))"
   ]
  },
  {
   "cell_type": "markdown",
   "id": "be049a06",
   "metadata": {},
   "source": [
    "## Float"
   ]
  },
  {
   "cell_type": "code",
   "execution_count": 17,
   "id": "c30bdb29",
   "metadata": {},
   "outputs": [
    {
     "name": "stdout",
     "output_type": "stream",
     "text": [
      "False\n",
      "0.30000000000000004\n"
     ]
    }
   ],
   "source": [
    "print(0.1*3==0.3)\n",
    "print(0.1*3)"
   ]
  },
  {
   "cell_type": "markdown",
   "id": "6783838a",
   "metadata": {},
   "source": [
    "## 1. N 이하의 소수리스트 반환"
   ]
  },
  {
   "cell_type": "code",
   "execution_count": 3,
   "id": "b31e5bcf",
   "metadata": {},
   "outputs": [
    {
     "name": "stdout",
     "output_type": "stream",
     "text": [
      "i: 2, j:4\n",
      "i: 2, j:6\n",
      "i: 2, j:8\n",
      "i: 2, j:10\n",
      "i: 3, j:9\n",
      "[2, 3, 5, 7]\n"
     ]
    }
   ],
   "source": [
    "def era(N):\n",
    "    ck = [False for i in range(N+1)]\n",
    "    ret = []\n",
    "    for i in range(2, N+1):\n",
    "        if ck[i]:\n",
    "            continue   \n",
    "        ret.append(i)\n",
    "        \n",
    "        for j in range(i**2,N+1, i):\n",
    "            print(\"i: {}, j:{}\".format(i, j))\n",
    "            ck[j]=True\n",
    "    return ret\n",
    "            \n",
    "N = 10  \n",
    "print(era(N))\n",
    "    "
   ]
  },
  {
   "cell_type": "markdown",
   "id": "aa957111",
   "metadata": {},
   "source": [
    "## 2. 최소 공배수"
   ]
  },
  {
   "cell_type": "code",
   "execution_count": 12,
   "id": "35c6fde4",
   "metadata": {},
   "outputs": [
    {
     "name": "stdout",
     "output_type": "stream",
     "text": [
      "50 80\n",
      "80 50\n",
      "50 30\n",
      "30 20\n",
      "20 10\n",
      "10 0\n",
      "10\n"
     ]
    }
   ],
   "source": [
    "def gcd(a, b):\n",
    "    print(a, b)\n",
    "    return a if b==0 else gcd(b, a%b)\n",
    "\n",
    "print(gcd(50, 80))"
   ]
  },
  {
   "cell_type": "markdown",
   "id": "9c4744bd",
   "metadata": {},
   "source": [
    "## 3. 15969 행복\n",
    "https://www.acmicpc.net/problem/15969 "
   ]
  },
  {
   "cell_type": "markdown",
   "id": "3c3f7d46",
   "metadata": {},
   "source": [
    "코이 초등학교에 새로 부임하신 교장 선생님은 어린 학생들의 행복감과 학생들의 성적 차이 관계를 알아보기로 했다. 그래서 이전 성적을 조사하여 학생 들의 시험 점수 차이 변화를 알아보려고 한다.\n",
    "\n",
    "예를 들어서 2016년 학생 8명의 점수가 다음과 같다고 하자.\n",
    "\n",
    "27, 35, 92, 75, 42, 53, 29, 87\n",
    "\n",
    "그러면 가장 높은 점수는 92점이고 가장 낮은 점수는 27점이므로 점수의 최대 차이는 65이다. 한편 2017년 학생 8명의 점수가 다음과 같았다.\n",
    "\n",
    "85, 42, 79, 95, 37, 11, 72, 32\n",
    "\n",
    "이때 가장 높은 점수는 95점이고 가장 낮은 점수는 11점이므로 점수의 최대 차이는 84이다.\n",
    "\n",
    "N명 학생들의 점수가 주어졌을 때, 가장 높은 점수와 가장 낮은 점수의 차이를 구하는 프로그램을 작성하시오"
   ]
  },
  {
   "cell_type": "code",
   "execution_count": 20,
   "id": "a8f3b08d",
   "metadata": {},
   "outputs": [
    {
     "name": "stdout",
     "output_type": "stream",
     "text": [
      "5\n",
      "27 35 92 75 42\n",
      "65\n"
     ]
    }
   ],
   "source": [
    "n = int(input())\n",
    "arr = list(map(int, input().split()))\n",
    "max_num = arr[0]\n",
    "min_num = arr[0]\n",
    "for i in range(n):\n",
    "    max_num = max(max_num, arr[i])\n",
    "    min_num = min(min_num, arr[i])\n",
    "print(max_num - min_num)\n",
    "    "
   ]
  },
  {
   "cell_type": "code",
   "execution_count": 21,
   "id": "43d3e55a",
   "metadata": {},
   "outputs": [
    {
     "name": "stdout",
     "output_type": "stream",
     "text": [
      "5\n",
      "27 35 92 75 42\n",
      "65\n"
     ]
    }
   ],
   "source": [
    "n, arr = int(input()), list(map(int, input().split()))\n",
    "print(max(arr)-min(arr))"
   ]
  },
  {
   "cell_type": "markdown",
   "id": "0b0c1e34",
   "metadata": {},
   "source": [
    "## 4. 10539 수빈이와 수열 \n",
    "https://www.acmicpc.net/problem/10539"
   ]
  },
  {
   "cell_type": "markdown",
   "id": "c9229384",
   "metadata": {},
   "source": [
    "수빈이는 심심해서 수열을 가지고 놀고 있다. 먼저, 정수 수열 A를 쓴다. 그리고 그 아래에 정수 수열 A의 해당 항까지의 평균값을 그 항으로 하는 정수 수열 B를 쓴다. \n",
    "\n",
    "예를 들어, 수열 A가 1, 3, 2, 6, 8이라면, 수열 B는 1/1, (1+3)/2, (1+3+2)/3, (1+3+2+6)/4, (1+3+2+6+8)/5, 즉, 1, 2, 2, 3, 4가 된다. \n",
    "\n",
    "수열 B가 주어질 때, 수빈이의 규칙에 따른 수열 A는 뭘까?"
   ]
  },
  {
   "cell_type": "code",
   "execution_count": 23,
   "id": "7264f34c",
   "metadata": {},
   "outputs": [
    {
     "name": "stdout",
     "output_type": "stream",
     "text": [
      "4\n",
      "3 1 5 11\n",
      "[3, 2, 3, 5]\n"
     ]
    }
   ],
   "source": [
    "# 수열 B 구하기\n",
    "n, arr = int(input()), list(map(int, input().split()))\n",
    "\n",
    "if n == 1:\n",
    "    print(arr[0])\n",
    "else:\n",
    "    ret = []\n",
    "    lenth = len(arr)\n",
    "    for i in range(1,lenth+1):\n",
    "        sum_num = sum(arr[:i])\n",
    "        ret.append(sum_num//i)\n",
    "print(ret)"
   ]
  },
  {
   "cell_type": "code",
   "execution_count": 28,
   "id": "cfcc5218",
   "metadata": {},
   "outputs": [
    {
     "name": "stdout",
     "output_type": "stream",
     "text": [
      "5\n",
      "1 2 2 3 4\n",
      "1 3 2 6 8 "
     ]
    }
   ],
   "source": [
    "# 수열 A 구하기\n",
    "n, arr = int(input()), list(map(int, input().split()))\n",
    "\n",
    "A = [arr[0]]\n",
    "\n",
    "for i in range(1,n):\n",
    "    A.append(arr[i]*(i+1)-sum(A))\n",
    "for i in A:print(i, end=\" \")"
   ]
  },
  {
   "cell_type": "markdown",
   "id": "0f9fd8dd",
   "metadata": {},
   "source": [
    "## 5. 17269 이름궁합테스트\n",
    "https://www.acmicpc.net/problem/17269\n",
    "\n",
    "<img width=\"1221\" alt=\"image\" src=\"https://user-images.githubusercontent.com/26552500/190537398-f3582dfd-9bf4-4af8-a847-4c0eeab7e012.png\">"
   ]
  },
  {
   "cell_type": "code",
   "execution_count": 16,
   "id": "bb8c9e22",
   "metadata": {},
   "outputs": [
    {
     "name": "stdout",
     "output_type": "stream",
     "text": [
      "8 14\n",
      "LEESIYUN MIYAWAKISAKURA\n",
      "[1, 3, 4, 1, 4, 2, 1, 3, 1, 1, 2, 3, 1, 3, 2, 1, 1, 3, 3, 1, 2, 3]\n",
      "[1951402, 2013347, 1020630, 514923, 257931, 128119, 63131, 30936, 15149, 7466, 3734, 1908, 997, 528, 278, 142, 69, 32, 15, 8, 5, 3]\n",
      "27%\n"
     ]
    }
   ],
   "source": [
    "n, m = map(int, input().split())\n",
    "a, b = input().split()\n",
    "\n",
    "alp = [3,2,1,2,4,3,1,3,1,1,3,1,3,2,1,2,2,2,1,2,1,1,1,2,2,1]\n",
    "\n",
    "ab =''\n",
    "min_len = min(n,m)\n",
    "\n",
    "for i in range(min_len):\n",
    "    ab += a[i]+b[i]\n",
    "\n",
    "ab += a[min_len:] + b[min_len:]\n",
    "\n",
    "lst = [alp[ord(i)-ord('A')] for i in ab]\n",
    "print(lst)\n",
    "\n",
    "for i in range(n+m-2):\n",
    "    for j in range(n+m-1-i):\n",
    "        lst[j] += lst[j+1]\n",
    "print(lst)\n",
    "\n",
    "print(\"{}%\".format(lst[0]%10*10+lst[1]%10 ))\n"
   ]
  },
  {
   "cell_type": "code",
   "execution_count": 28,
   "id": "efa6ad87",
   "metadata": {},
   "outputs": [
    {
     "name": "stdout",
     "output_type": "stream",
     "text": [
      "8 14\n",
      "LEESIYUN MIYAWAKISAKURA\n",
      "[4, 7, 5, 5, 6, 3, 4, 4, 2, 3, 5, 4, 4, 5, 3, 2, 4, 6, 4, 3, 5]\n"
     ]
    }
   ],
   "source": [
    "n, m = map(int, input().split())\n",
    "a, b = input().split()\n",
    "\n",
    "alp = [3,2,1,2,4,3,1,3,1,1,3,1,3,2,1,2,2,2,1,2,1,1,1,2,2,1]\n",
    "\n",
    "ab =''\n",
    "min_len = min(n,m)\n",
    "\n",
    "for i in range(min_len):\n",
    "    ab += a[i]+b[i]\n",
    "\n",
    "ab += a[min_len:] + b[min_len:]\n",
    "\n",
    "lst = [alp[ord(i)-ord('A')] for i in ab]\n",
    "\n",
    "\n",
    "def f(lst):\n",
    "    ret = []\n",
    "    for j in range(len(lst)-1):\n",
    "        ret.append((lst[j] + lst[j+1])%10)\n",
    "    return ret\n",
    "\n",
    "d = f(lst)\n",
    "print(d)"
   ]
  },
  {
   "cell_type": "markdown",
   "id": "b71beb1c",
   "metadata": {},
   "source": [
    "## 6. 17389 보너스 점수\n",
    "https://www.acmicpc.net/problem/17389\n"
   ]
  },
  {
   "cell_type": "markdown",
   "id": "5c66c011",
   "metadata": {},
   "source": [
    "숭고한 알고리즘 캠프 퀴즈 타임이 시작되었다! PS 기초, 동적 계획법, 파라메트릭 서치, 욱제의 생일, 탐색, 그리디, 최단경로 알고리즘, 구데기컵, 서로소 집합, 최소 신장 트리, 최소 공통 조상, 세그먼트 트리, 코드포스에서 C++로 높은 수준의 난수를 생성하는 방법, 최대 유량, 볼록 껍질, 스타트링크 사무실에 있는 게임용 컴퓨터의 RAM의 총 용량 등등 수많은 주제를 총망라하고 있는 이 미니 대회는 수많은 참가자들의 도전으로 오늘도 빛나고 있고, 제출된 OX표의 개수는 셀 수 없을 정도이다.\n",
    "\n",
    "운영진들은 이 OX표들을 채점하고, 점수를 계산해낸 다음, 시상식을 진행하며 화기애애하게 행사를 마무리해야 한다. 숭고한 알고리즘 캠프 퀴즈 타임에서 OX표의 점수는 다음과 같이 계산된다.\n",
    "\n",
    "OX표에 N개의 문제들이 있을 때, 1번 문제, 2번 문제, ..., N번 문제 순으로 채점된다.\n",
    "문제는 뒤로 갈수록 어려워지기 때문에, i 번 문제의 기본 점수는 i 점이다.\n",
    "문제를 맞히면 그 문제의 기본 점수(즉 i 번 문제의 경우 i 점)를 획득하며, 틀리면 얻지 못한다.\n",
    "기본 점수와 별개로, '보너스 점수'라는 값이 존재한다. 이는 처음에는 0점이다.\n",
    "문제를 맞히면 그 때의 '보너스 점수'를 획득하고, '보너스 점수'의 값이 1점 증가한다.\n",
    "문제를 틀리면 '보너스 점수'를 얻지 못하고, '보너스 점수'의 값이 0점으로 초기화된다.\n",
    "민성이는 얼떨결에 숭고한 알고리즘 캠프 퀴즈 타임의 OX표를 채점해야 하는 업무를 맡게 되었다. 수많은 OX표를 볼 생각에 머리가 지끈거리는 민성이는 프로그램을 세워 이를 자동화하려고 한다. 시상식까지 4시간밖에 남지 않은 민성이를 도와 점수를 계산해주자."
   ]
  },
  {
   "cell_type": "code",
   "execution_count": 30,
   "id": "5e4640e9",
   "metadata": {},
   "outputs": [
    {
     "name": "stdout",
     "output_type": "stream",
     "text": [
      "8\n",
      "XOOOXOOX\n",
      "26\n"
     ]
    }
   ],
   "source": [
    "m = int(input())\n",
    "ox = input()\n",
    "\n",
    "bonus = 0\n",
    "total = 0\n",
    "for i in range(m):\n",
    "    if ox[i] == \"X\":\n",
    "        score = 0\n",
    "        bonus = 0\n",
    "    elif ox[i] == \"O\":\n",
    "        score = i+1\n",
    "        total += score\n",
    "        \n",
    "        bonus += 1\n",
    "        if bonus >= 2:\n",
    "            total += bonus-1\n",
    "print(total)\n",
    "        "
   ]
  },
  {
   "cell_type": "code",
   "execution_count": 32,
   "id": "5abd1a83",
   "metadata": {},
   "outputs": [
    {
     "name": "stdout",
     "output_type": "stream",
     "text": [
      "8\n",
      "XOOOXOOX\n",
      "26\n"
     ]
    }
   ],
   "source": [
    "N, S = input(), input()\n",
    "\n",
    "score, bonus = 0,0\n",
    "\n",
    "for idx, OX in enumerate(S):\n",
    "    if OX == \"O\":\n",
    "        # score, bonus = score + idx+1 +bonus, bonus + 1\n",
    "        score += idx+1 +bonus\n",
    "        bonus +=1\n",
    "    else:\n",
    "        bonus = 0\n",
    "        \n",
    "print(score)"
   ]
  },
  {
   "cell_type": "markdown",
   "id": "a94c8205",
   "metadata": {},
   "source": [
    "## 7. 1920 수 찾기\n",
    "https://www.acmicpc.net/problem/1920"
   ]
  },
  {
   "cell_type": "markdown",
   "id": "594cecb2",
   "metadata": {},
   "source": [
    "< 문제 >\n",
    "N개의 정수 A[1], A[2], …, A[N]이 주어져 있을 때, 이 안에 X라는 정수가 존재하는지 알아내는 프로그램을 작성하시오.\n",
    "\n",
    "< 입력 >\n",
    "첫째 줄에 자연수 N(1 ≤ N ≤ 100,000)이 주어진다. 다음 줄에는 N개의 정수 A[1], A[2], …, A[N]이 주어진다. 다음 줄에는 M(1 ≤ M ≤ 100,000)이 주어진다. 다음 줄에는 M개의 수들이 주어지는데, 이 수들이 A안에 존재하는지 알아내면 된다. 모든 정수의 범위는 -231 보다 크거나 같고 231보다 작다."
   ]
  },
  {
   "cell_type": "code",
   "execution_count": 4,
   "id": "48aa5dd9",
   "metadata": {},
   "outputs": [
    {
     "name": "stdout",
     "output_type": "stream",
     "text": [
      "5\n",
      "4 1 5 2 3\n",
      "5\n",
      "1 3 7 9 5\n",
      "1\n",
      "1\n",
      "0\n",
      "0\n",
      "1\n"
     ]
    }
   ],
   "source": [
    "N, A = int(input()), {i: 1 for i in map(int, input().split())}\n",
    "M = input()\n",
    "for i in list(map(int, input().split())):\n",
    "    # print(A[i]) 없는 숫자가 입력될 시에는 에러발생\n",
    "    print(A.get(i,0)) # 숫자가 없을시 0을 반환\n",
    "    \n",
    "    "
   ]
  },
  {
   "cell_type": "code",
   "execution_count": 7,
   "id": "6f144791",
   "metadata": {},
   "outputs": [
    {
     "name": "stdout",
     "output_type": "stream",
     "text": [
      "5\n",
      "4 1 5 2 3\n",
      "5\n",
      "1 3 7 9 5\n",
      "1\n",
      "1\n",
      "0\n",
      "0\n",
      "1\n"
     ]
    }
   ],
   "source": [
    "N, A = int(input()), {i:1 for i in list(map(int, input().split()))}\n",
    "M = input()\n",
    "for i in map(int, input().split()):\n",
    "    # print(A.get(i,0))\n",
    "    print(1 if i in A else 0)"
   ]
  },
  {
   "cell_type": "markdown",
   "id": "a2c9f8de",
   "metadata": {},
   "source": [
    "## 9. 16165 걸그룹 마스터 준석이\n",
    "https://www.acmicpc.net/problem/16165"
   ]
  },
  {
   "cell_type": "markdown",
   "id": "246b12a0",
   "metadata": {},
   "source": [
    "정우는 소문난 걸그룹 덕후이다. 정우의 친구 준석이도 걸그룹을 좋아하지만 이름을 잘 외우지 못한다는 문제가 있었다. 정우는 친구를 위해 걸그룹 개인과 팀의 이름을 검색하여 외우게 하는 퀴즈 프로그램을 만들고자 한다.\n",
    "\n",
    "<입력>\n",
    "첫 번째 줄에는 총 입력 받을 걸그룹의 수 N(0 < N < 100)과 맞혀야 할 문제의 수 M(0 < M < 100)을 입력받는다.\n",
    "\n",
    "두 번째 줄부터는 각 걸그룹마다 팀의 이름, 걸그룹의 인원 수, 멤버의 이름을 한 줄씩 차례대로 입력받는다. 팀과 멤버의 이름은 최대 100글자이며, 모든 글자는 알파벳 소문자이다. 하나의 걸그룹이나 서로 다른 두 걸그룹에 이름이 같은 두 멤버가 있는 경우는 없다.\n",
    "\n",
    "그 다음 줄부터는 M개의 퀴즈를 입력받는다. 각각의 퀴즈는 두 줄로 이루어져 있으며, 팀의 이름이나 멤버의 이름이 첫 줄에 주어지고 퀴즈의 종류를 나타내는 0 또는 1이 두 번째 줄에 주어진다. 퀴즈의 종류가 0일 경우 팀의 이름이 주어지며, 1일 경우 멤버의 이름이 주어진다."
   ]
  },
  {
   "cell_type": "code",
   "execution_count": 18,
   "id": "69a03928",
   "metadata": {},
   "outputs": [
    {
     "name": "stdout",
     "output_type": "stream",
     "text": [
      "2 2\n",
      "twice\n",
      "1\n",
      "jihyo\n",
      "blackpink\n",
      "1\n",
      "jisu\n",
      "********************\n",
      "{'jihyo': 'twice', 'jisu': 'blackpink'}\n",
      "{'twice': ['jihyo'], 'blackpink': ['jisu']}\n",
      "********************\n",
      "jisu\n",
      "1\n",
      "blackpink\n",
      "twice\n",
      "0\n",
      "jihyo\n"
     ]
    }
   ],
   "source": [
    "# 리스트명.sort( ) 형식으로 \"리스트형의 메소드\" => 원본값 직접 수정\n",
    "# sorted( 리스트명 ) 형식으로 \"내장 함수\" => 리스트 원본값은 그대로이고 정렬된 값을 반환\n",
    "\n",
    "N, M = map(int, input().split())\n",
    "\n",
    "team, mem = {}, {}\n",
    "\n",
    "for i in range(N):\n",
    "    team_name, mem_num = input(), int(input())\n",
    "    team[team_name]=[]\n",
    "    for j in range(mem_num):\n",
    "        name = input()\n",
    "        team[team_name].append(name)\n",
    "        mem[name] = team_name\n",
    "print(\"*\" * 20)\n",
    "print(mem)\n",
    "print(team)\n",
    "print(\"*\" * 20)\n",
    "for i in range(M):\n",
    "    q_name, q = input(), int(input())\n",
    "    if q==1:\n",
    "        print(mem.get(q_name))\n",
    "    else:\n",
    "        for mem in sorted(team[q_name]):\n",
    "            print(mem)"
   ]
  },
  {
   "cell_type": "markdown",
   "id": "663f2a7d",
   "metadata": {},
   "source": [
    "## 10. 17224 APC는 왜 서브태스크 대회가 되었을까?\n",
    "https://www.acmicpc.net/problem/17224"
   ]
  },
  {
   "cell_type": "markdown",
   "id": "3c5be0b2",
   "metadata": {},
   "source": [
    "![image](https://user-images.githubusercontent.com/26552500/190707066-b34f492a-3869-4bcf-a069-e364ecf3e3ca.png)"
   ]
  },
  {
   "cell_type": "code",
   "execution_count": 19,
   "id": "3384d1da",
   "metadata": {},
   "outputs": [
    {
     "name": "stdout",
     "output_type": "stream",
     "text": [
      "4 8 4\n",
      "1 8\n",
      "4 5\n",
      "6 20\n",
      "9 12\n",
      "380\n"
     ]
    }
   ],
   "source": [
    "q_num, L, K = map(int, input().split())\n",
    "\n",
    "hard = 0\n",
    "easy = 0\n",
    "\n",
    "for i in range(q_num):\n",
    "    sub1, sub2 = map(int, input().split())\n",
    "    if L >= sub2:\n",
    "        hard += 1\n",
    "    elif L >= sub1:\n",
    "        easy += 1\n",
    "        \n",
    "#hard 문제\n",
    "ans = min(hard, K) * 140\n",
    "\n",
    "#easy 문제\n",
    "if hard < K:\n",
    "    ans += min(K-hard, easy) * 100\n",
    "print(ans)\n",
    "\n"
   ]
  },
  {
   "cell_type": "markdown",
   "id": "57dbf124",
   "metadata": {},
   "source": [
    "## 11.9037 The candy war\n",
    "https://www.acmicpc.net/problem/9037"
   ]
  },
  {
   "cell_type": "markdown",
   "id": "d6880236",
   "metadata": {},
   "source": [
    "알고리즘 유치원 선생님인 영희는 간식시간이 되자 아이들에게 사탕을 나누어 주려고 하였다. 하지만 욕심 많고 제멋대로인 유치원 아이들은 차례대로 받으라는 선생님의 말을 무시한 채 마구잡이로 사탕을 집어 갔고 많은 사탕을 집어 간 아이가 있는가 하면 사탕을 거의 차지하지 못하고 우는 아이도 있었다. \n",
    "\n",
    "말로 타일러도 아이들이 말을 듣지 않자 영희는 한 가지 놀이를 제안했다. 일단 모든 아이들이 원으로 둘러 앉는다. 그리고 모든 아이들은 동시에 자기가 가지고 있는 사탕의 절반을 오른쪽 아이에게 준다. 만약 이 결과 홀수개의 사탕을 가지게 된 아이가 있을 경우 선생님이 한 개를 보충해 짝수로 만들어 주기로 했다. 흥미로워 보이는 이 놀이에 아이들은 참여 했고 이 과정을 몇 번 거치자 자연스럽게 모든 아이들이 같은 수의 사탕을 가지게 되어 소란은 종료되었다.\n",
    "\n",
    "자기가 가진 사탕의 반을 옆에 오른쪽에 앉은 아이에게 주는 과정과 선생님이 사탕을 보충해 주는 과정을 묶어서 1 순환이라고 할 때 몇 번의 순환을 거치면 모든 아이들이 같은 수의 사탕을 가지게 되는지 계산 해보자. 단, 처음부터 홀수개의 사탕을 가지고 있으면 선생님이 짝수로 보충을 먼저 해주며 이 경우 순환수에 들어가지 않는다. 선생님은 충분한 수의 사탕을 갖고 있다고 가정하자."
   ]
  },
  {
   "cell_type": "code",
   "execution_count": 32,
   "id": "5b595942",
   "metadata": {},
   "outputs": [
    {
     "name": "stdout",
     "output_type": "stream",
     "text": [
      "4\n",
      "5\n",
      "2 4 7 8 9\n",
      "[0, 0, 0, 0, 0]\n",
      "before: 2\n",
      "after: 1\n",
      "before: 4\n",
      "after: 2\n",
      "before: 8\n",
      "after: 4\n",
      "before: 8\n",
      "after: 4\n",
      "before: 10\n",
      "after: 5\n",
      "[0, 0, 0, 0, 0]\n",
      "before: 6\n",
      "after: 3\n",
      "before: 4\n",
      "after: 2\n",
      "before: 6\n",
      "after: 3\n",
      "before: 8\n",
      "after: 4\n",
      "before: 10\n",
      "after: 5\n",
      "[0, 0, 0, 0, 0]\n",
      "before: 8\n",
      "after: 4\n",
      "before: 6\n",
      "after: 3\n",
      "before: 6\n",
      "after: 3\n",
      "before: 8\n",
      "after: 4\n",
      "before: 10\n",
      "after: 5\n",
      "[0, 0, 0, 0, 0]\n",
      "before: 10\n",
      "after: 5\n",
      "before: 8\n",
      "after: 4\n",
      "before: 6\n",
      "after: 3\n",
      "before: 8\n",
      "after: 4\n",
      "before: 10\n",
      "after: 5\n",
      "[0, 0, 0, 0, 0]\n",
      "before: 10\n",
      "after: 5\n",
      "before: 10\n",
      "after: 5\n",
      "before: 8\n",
      "after: 4\n",
      "before: 8\n",
      "after: 4\n",
      "before: 10\n",
      "after: 5\n",
      "[0, 0, 0, 0, 0]\n",
      "before: 10\n",
      "after: 5\n",
      "before: 10\n",
      "after: 5\n",
      "before: 10\n",
      "after: 5\n",
      "before: 8\n",
      "after: 4\n",
      "before: 10\n",
      "after: 5\n",
      "********************\n",
      "6\n",
      "1\n",
      "9\n",
      "********************\n",
      "0\n",
      "6\n",
      "10 5 13 2 7 8\n",
      "[0, 0, 0, 0, 0, 0]\n",
      "before: 10\n",
      "after: 5\n",
      "before: 6\n",
      "after: 3\n",
      "before: 14\n",
      "after: 7\n",
      "before: 2\n",
      "after: 1\n",
      "before: 8\n",
      "after: 4\n",
      "before: 8\n",
      "after: 4\n",
      "[0, 0, 0, 0, 0, 0]\n",
      "before: 10\n",
      "after: 5\n",
      "before: 8\n",
      "after: 4\n",
      "before: 10\n",
      "after: 5\n",
      "before: 8\n",
      "after: 4\n",
      "before: 6\n",
      "after: 3\n",
      "before: 8\n",
      "after: 4\n",
      "[0, 0, 0, 0, 0, 0]\n",
      "before: 10\n",
      "after: 5\n",
      "before: 10\n",
      "after: 5\n",
      "before: 10\n",
      "after: 5\n",
      "before: 10\n",
      "after: 5\n",
      "before: 8\n",
      "after: 4\n",
      "before: 8\n",
      "after: 4\n",
      "[0, 0, 0, 0, 0, 0]\n",
      "before: 10\n",
      "after: 5\n",
      "before: 10\n",
      "after: 5\n",
      "before: 10\n",
      "after: 5\n",
      "before: 10\n",
      "after: 5\n",
      "before: 10\n",
      "after: 5\n",
      "before: 8\n",
      "after: 4\n",
      "********************\n",
      "4\n",
      "4\n",
      "3 4 4 3\n",
      "********************\n",
      "0\n"
     ]
    }
   ],
   "source": [
    "def check(N, candy):\n",
    "    for i in range(N):\n",
    "        if candy[i]% 2 ==1:\n",
    "            candy[i] += 1\n",
    "    return len(set(candy)) ==1\n",
    "def teacher(N, candy):\n",
    "    tmp_list= [0 for i in range(N)]\n",
    "    print(tmp_list)\n",
    "    for idx in range(N):\n",
    "        if candy[idx] % 2: #홀수이라면\n",
    "            print(\"candy[idx] % 2 = \",candy[idx])\n",
    "            candy[idx] += 1\n",
    "        print(\"before:\",candy[idx])\n",
    "        candy[idx] //=2\n",
    "        print(\"after:\",candy[idx])\n",
    "        \n",
    "        tmp_list[(idx+1)%N] = candy[idx]\n",
    "    for idx in range(N):\n",
    "        candy[idx] += tmp_list[idx]\n",
    "        \n",
    "    return candy\n",
    "        \n",
    "            \n",
    "\n",
    "def process():\n",
    "    N, candy = int(input()), list(map(int, input().split()))\n",
    "    cnt = 0\n",
    "    while not check(N, candy):\n",
    "        cnt +=1\n",
    "        candy = teacher(N, candy)\n",
    "    print(\"*\"*20)\n",
    "    print(cnt)\n",
    "\n",
    "for i in range(int(input())):\n",
    "    process()"
   ]
  }
 ],
 "metadata": {
  "kernelspec": {
   "display_name": "Python 3 (ipykernel)",
   "language": "python",
   "name": "python3"
  },
  "language_info": {
   "codemirror_mode": {
    "name": "ipython",
    "version": 3
   },
   "file_extension": ".py",
   "mimetype": "text/x-python",
   "name": "python",
   "nbconvert_exporter": "python",
   "pygments_lexer": "ipython3",
   "version": "3.7.5"
  }
 },
 "nbformat": 4,
 "nbformat_minor": 5
}
