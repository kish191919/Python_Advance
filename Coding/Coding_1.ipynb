{
 "cells": [
  {
   "cell_type": "markdown",
   "id": "d096cc75",
   "metadata": {},
   "source": [
    "## Integer"
   ]
  },
  {
   "cell_type": "code",
   "execution_count": 14,
   "id": "4932ad78",
   "metadata": {},
   "outputs": [
    {
     "name": "stdout",
     "output_type": "stream",
     "text": [
      "2.857142857142857\n",
      "2\n",
      "6\n",
      "(2, 6)\n"
     ]
    }
   ],
   "source": [
    "# 나눗셈 - 목과 나머지\n",
    "print(20/7)\n",
    "\n",
    "# 목만 나옴\n",
    "print(20//7)\n",
    "\n",
    "# 나머지\n",
    "print(20%7)\n",
    "\n",
    "# 안전하게 목과 나머지 구함\n",
    "print(divmod(20,7))"
   ]
  },
  {
   "cell_type": "markdown",
   "id": "be049a06",
   "metadata": {},
   "source": [
    "## Float"
   ]
  },
  {
   "cell_type": "code",
   "execution_count": 17,
   "id": "c30bdb29",
   "metadata": {},
   "outputs": [
    {
     "name": "stdout",
     "output_type": "stream",
     "text": [
      "False\n",
      "0.30000000000000004\n"
     ]
    }
   ],
   "source": [
    "print(0.1*3==0.3)\n",
    "print(0.1*3)"
   ]
  },
  {
   "cell_type": "markdown",
   "id": "6783838a",
   "metadata": {},
   "source": [
    "## 1. N 이하의 소수리스트 반환"
   ]
  },
  {
   "cell_type": "code",
   "execution_count": 3,
   "id": "b31e5bcf",
   "metadata": {},
   "outputs": [
    {
     "name": "stdout",
     "output_type": "stream",
     "text": [
      "i: 2, j:4\n",
      "i: 2, j:6\n",
      "i: 2, j:8\n",
      "i: 2, j:10\n",
      "i: 3, j:9\n",
      "[2, 3, 5, 7]\n"
     ]
    }
   ],
   "source": [
    "def era(N):\n",
    "    ck = [False for i in range(N+1)]\n",
    "    ret = []\n",
    "    for i in range(2, N+1):\n",
    "        if ck[i]:\n",
    "            continue   \n",
    "        ret.append(i)\n",
    "        \n",
    "        for j in range(i**2,N+1, i):\n",
    "            print(\"i: {}, j:{}\".format(i, j))\n",
    "            ck[j]=True\n",
    "    return ret\n",
    "            \n",
    "N = 10  \n",
    "print(era(N))\n",
    "    "
   ]
  },
  {
   "cell_type": "markdown",
   "id": "aa957111",
   "metadata": {},
   "source": [
    "## 2. 최소 공배수"
   ]
  },
  {
   "cell_type": "code",
   "execution_count": 12,
   "id": "35c6fde4",
   "metadata": {},
   "outputs": [
    {
     "name": "stdout",
     "output_type": "stream",
     "text": [
      "50 80\n",
      "80 50\n",
      "50 30\n",
      "30 20\n",
      "20 10\n",
      "10 0\n",
      "10\n"
     ]
    }
   ],
   "source": [
    "def gcd(a, b):\n",
    "    print(a, b)\n",
    "    return a if b==0 else gcd(b, a%b)\n",
    "\n",
    "print(gcd(50, 80))"
   ]
  },
  {
   "cell_type": "markdown",
   "id": "9c4744bd",
   "metadata": {},
   "source": [
    "## 3. 15969 행복\n",
    "https://www.acmicpc.net/problem/15969 "
   ]
  },
  {
   "cell_type": "markdown",
   "id": "3c3f7d46",
   "metadata": {},
   "source": [
    "코이 초등학교에 새로 부임하신 교장 선생님은 어린 학생들의 행복감과 학생들의 성적 차이 관계를 알아보기로 했다. 그래서 이전 성적을 조사하여 학생 들의 시험 점수 차이 변화를 알아보려고 한다.\n",
    "\n",
    "예를 들어서 2016년 학생 8명의 점수가 다음과 같다고 하자.\n",
    "\n",
    "27, 35, 92, 75, 42, 53, 29, 87\n",
    "\n",
    "그러면 가장 높은 점수는 92점이고 가장 낮은 점수는 27점이므로 점수의 최대 차이는 65이다. 한편 2017년 학생 8명의 점수가 다음과 같았다.\n",
    "\n",
    "85, 42, 79, 95, 37, 11, 72, 32\n",
    "\n",
    "이때 가장 높은 점수는 95점이고 가장 낮은 점수는 11점이므로 점수의 최대 차이는 84이다.\n",
    "\n",
    "N명 학생들의 점수가 주어졌을 때, 가장 높은 점수와 가장 낮은 점수의 차이를 구하는 프로그램을 작성하시오"
   ]
  },
  {
   "cell_type": "code",
   "execution_count": 20,
   "id": "a8f3b08d",
   "metadata": {},
   "outputs": [
    {
     "name": "stdout",
     "output_type": "stream",
     "text": [
      "5\n",
      "27 35 92 75 42\n",
      "65\n"
     ]
    }
   ],
   "source": [
    "n = int(input())\n",
    "arr = list(map(int, input().split()))\n",
    "max_num = arr[0]\n",
    "min_num = arr[0]\n",
    "for i in range(n):\n",
    "    max_num = max(max_num, arr[i])\n",
    "    min_num = min(min_num, arr[i])\n",
    "print(max_num - min_num)\n",
    "    "
   ]
  },
  {
   "cell_type": "code",
   "execution_count": 21,
   "id": "43d3e55a",
   "metadata": {},
   "outputs": [
    {
     "name": "stdout",
     "output_type": "stream",
     "text": [
      "5\n",
      "27 35 92 75 42\n",
      "65\n"
     ]
    }
   ],
   "source": [
    "n, arr = int(input()), list(map(int, input().split()))\n",
    "print(max(arr)-min(arr))"
   ]
  },
  {
   "cell_type": "markdown",
   "id": "0b0c1e34",
   "metadata": {},
   "source": [
    "## 4. 10539 수빈이와 수열 \n",
    "https://www.acmicpc.net/problem/10539"
   ]
  },
  {
   "cell_type": "markdown",
   "id": "c9229384",
   "metadata": {},
   "source": [
    "수빈이는 심심해서 수열을 가지고 놀고 있다. 먼저, 정수 수열 A를 쓴다. 그리고 그 아래에 정수 수열 A의 해당 항까지의 평균값을 그 항으로 하는 정수 수열 B를 쓴다. \n",
    "\n",
    "예를 들어, 수열 A가 1, 3, 2, 6, 8이라면, 수열 B는 1/1, (1+3)/2, (1+3+2)/3, (1+3+2+6)/4, (1+3+2+6+8)/5, 즉, 1, 2, 2, 3, 4가 된다. \n",
    "\n",
    "수열 B가 주어질 때, 수빈이의 규칙에 따른 수열 A는 뭘까?"
   ]
  },
  {
   "cell_type": "code",
   "execution_count": 23,
   "id": "7264f34c",
   "metadata": {},
   "outputs": [
    {
     "name": "stdout",
     "output_type": "stream",
     "text": [
      "4\n",
      "3 1 5 11\n",
      "[3, 2, 3, 5]\n"
     ]
    }
   ],
   "source": [
    "# 수열 B 구하기\n",
    "n, arr = int(input()), list(map(int, input().split()))\n",
    "\n",
    "if n == 1:\n",
    "    print(arr[0])\n",
    "else:\n",
    "    ret = []\n",
    "    lenth = len(arr)\n",
    "    for i in range(1,lenth+1):\n",
    "        sum_num = sum(arr[:i])\n",
    "        ret.append(sum_num//i)\n",
    "print(ret)"
   ]
  },
  {
   "cell_type": "code",
   "execution_count": 28,
   "id": "cfcc5218",
   "metadata": {},
   "outputs": [
    {
     "name": "stdout",
     "output_type": "stream",
     "text": [
      "5\n",
      "1 2 2 3 4\n",
      "1 3 2 6 8 "
     ]
    }
   ],
   "source": [
    "# 수열 A 구하기\n",
    "n, arr = int(input()), list(map(int, input().split()))\n",
    "\n",
    "A = [arr[0]]\n",
    "\n",
    "for i in range(1,n):\n",
    "    A.append(arr[i]*(i+1)-sum(A))\n",
    "for i in A:print(i, end=\" \")"
   ]
  },
  {
   "cell_type": "markdown",
   "id": "0f9fd8dd",
   "metadata": {},
   "source": [
    "## 5. 17269 이름궁합테스트\n",
    "https://www.acmicpc.net/problem/17269\n",
    "\n",
    "<img width=\"1221\" alt=\"image\" src=\"https://user-images.githubusercontent.com/26552500/190537398-f3582dfd-9bf4-4af8-a847-4c0eeab7e012.png\">"
   ]
  },
  {
   "cell_type": "code",
   "execution_count": 16,
   "id": "bb8c9e22",
   "metadata": {},
   "outputs": [
    {
     "name": "stdout",
     "output_type": "stream",
     "text": [
      "8 14\n",
      "LEESIYUN MIYAWAKISAKURA\n",
      "[1, 3, 4, 1, 4, 2, 1, 3, 1, 1, 2, 3, 1, 3, 2, 1, 1, 3, 3, 1, 2, 3]\n",
      "[1951402, 2013347, 1020630, 514923, 257931, 128119, 63131, 30936, 15149, 7466, 3734, 1908, 997, 528, 278, 142, 69, 32, 15, 8, 5, 3]\n",
      "27%\n"
     ]
    }
   ],
   "source": [
    "n, m = map(int, input().split())\n",
    "a, b = input().split()\n",
    "\n",
    "alp = [3,2,1,2,4,3,1,3,1,1,3,1,3,2,1,2,2,2,1,2,1,1,1,2,2,1]\n",
    "\n",
    "ab =''\n",
    "min_len = min(n,m)\n",
    "\n",
    "for i in range(min_len):\n",
    "    ab += a[i]+b[i]\n",
    "\n",
    "ab += a[min_len:] + b[min_len:]\n",
    "\n",
    "lst = [alp[ord(i)-ord('A')] for i in ab]\n",
    "print(lst)\n",
    "\n",
    "for i in range(n+m-2):\n",
    "    for j in range(n+m-1-i):\n",
    "        lst[j] += lst[j+1]\n",
    "print(lst)\n",
    "\n",
    "print(\"{}%\".format(lst[0]%10*10+lst[1]%10 ))\n"
   ]
  },
  {
   "cell_type": "code",
   "execution_count": 28,
   "id": "efa6ad87",
   "metadata": {},
   "outputs": [
    {
     "name": "stdout",
     "output_type": "stream",
     "text": [
      "8 14\n",
      "LEESIYUN MIYAWAKISAKURA\n",
      "[4, 7, 5, 5, 6, 3, 4, 4, 2, 3, 5, 4, 4, 5, 3, 2, 4, 6, 4, 3, 5]\n"
     ]
    }
   ],
   "source": [
    "n, m = map(int, input().split())\n",
    "a, b = input().split()\n",
    "\n",
    "alp = [3,2,1,2,4,3,1,3,1,1,3,1,3,2,1,2,2,2,1,2,1,1,1,2,2,1]\n",
    "\n",
    "ab =''\n",
    "min_len = min(n,m)\n",
    "\n",
    "for i in range(min_len):\n",
    "    ab += a[i]+b[i]\n",
    "\n",
    "ab += a[min_len:] + b[min_len:]\n",
    "\n",
    "lst = [alp[ord(i)-ord('A')] for i in ab]\n",
    "\n",
    "\n",
    "def f(lst):\n",
    "    ret = []\n",
    "    for j in range(len(lst)-1):\n",
    "        ret.append((lst[j] + lst[j+1])%10)\n",
    "    return ret\n",
    "\n",
    "d = f(lst)\n",
    "print(d)"
   ]
  },
  {
   "cell_type": "markdown",
   "id": "b71beb1c",
   "metadata": {},
   "source": [
    "## 6. 17389 보너스 점수\n",
    "https://www.acmicpc.net/problem/17389\n"
   ]
  },
  {
   "cell_type": "markdown",
   "id": "5c66c011",
   "metadata": {},
   "source": [
    "숭고한 알고리즘 캠프 퀴즈 타임이 시작되었다! PS 기초, 동적 계획법, 파라메트릭 서치, 욱제의 생일, 탐색, 그리디, 최단경로 알고리즘, 구데기컵, 서로소 집합, 최소 신장 트리, 최소 공통 조상, 세그먼트 트리, 코드포스에서 C++로 높은 수준의 난수를 생성하는 방법, 최대 유량, 볼록 껍질, 스타트링크 사무실에 있는 게임용 컴퓨터의 RAM의 총 용량 등등 수많은 주제를 총망라하고 있는 이 미니 대회는 수많은 참가자들의 도전으로 오늘도 빛나고 있고, 제출된 OX표의 개수는 셀 수 없을 정도이다.\n",
    "\n",
    "운영진들은 이 OX표들을 채점하고, 점수를 계산해낸 다음, 시상식을 진행하며 화기애애하게 행사를 마무리해야 한다. 숭고한 알고리즘 캠프 퀴즈 타임에서 OX표의 점수는 다음과 같이 계산된다.\n",
    "\n",
    "OX표에 N개의 문제들이 있을 때, 1번 문제, 2번 문제, ..., N번 문제 순으로 채점된다.\n",
    "문제는 뒤로 갈수록 어려워지기 때문에, i 번 문제의 기본 점수는 i 점이다.\n",
    "문제를 맞히면 그 문제의 기본 점수(즉 i 번 문제의 경우 i 점)를 획득하며, 틀리면 얻지 못한다.\n",
    "기본 점수와 별개로, '보너스 점수'라는 값이 존재한다. 이는 처음에는 0점이다.\n",
    "문제를 맞히면 그 때의 '보너스 점수'를 획득하고, '보너스 점수'의 값이 1점 증가한다.\n",
    "문제를 틀리면 '보너스 점수'를 얻지 못하고, '보너스 점수'의 값이 0점으로 초기화된다.\n",
    "민성이는 얼떨결에 숭고한 알고리즘 캠프 퀴즈 타임의 OX표를 채점해야 하는 업무를 맡게 되었다. 수많은 OX표를 볼 생각에 머리가 지끈거리는 민성이는 프로그램을 세워 이를 자동화하려고 한다. 시상식까지 4시간밖에 남지 않은 민성이를 도와 점수를 계산해주자."
   ]
  },
  {
   "cell_type": "code",
   "execution_count": 30,
   "id": "5e4640e9",
   "metadata": {},
   "outputs": [
    {
     "name": "stdout",
     "output_type": "stream",
     "text": [
      "8\n",
      "XOOOXOOX\n",
      "26\n"
     ]
    }
   ],
   "source": [
    "m = int(input())\n",
    "ox = input()\n",
    "\n",
    "bonus = 0\n",
    "total = 0\n",
    "for i in range(m):\n",
    "    if ox[i] == \"X\":\n",
    "        score = 0\n",
    "        bonus = 0\n",
    "    elif ox[i] == \"O\":\n",
    "        score = i+1\n",
    "        total += score\n",
    "        \n",
    "        bonus += 1\n",
    "        if bonus >= 2:\n",
    "            total += bonus-1\n",
    "print(total)\n",
    "        "
   ]
  },
  {
   "cell_type": "code",
   "execution_count": 32,
   "id": "5abd1a83",
   "metadata": {},
   "outputs": [
    {
     "name": "stdout",
     "output_type": "stream",
     "text": [
      "8\n",
      "XOOOXOOX\n",
      "26\n"
     ]
    }
   ],
   "source": [
    "N, S = input(), input()\n",
    "\n",
    "score, bonus = 0,0\n",
    "\n",
    "for idx, OX in enumerate(S):\n",
    "    if OX == \"O\":\n",
    "        # score, bonus = score + idx+1 +bonus, bonus + 1\n",
    "        score += idx+1 +bonus\n",
    "        bonus +=1\n",
    "    else:\n",
    "        bonus = 0\n",
    "        \n",
    "print(score)"
   ]
  },
  {
   "cell_type": "markdown",
   "id": "a94c8205",
   "metadata": {},
   "source": [
    "## 7. 17389 보너스 점수\n",
    "https://www.acmicpc.net/problem/17389"
   ]
  }
 ],
 "metadata": {
  "kernelspec": {
   "display_name": "Python 3 (ipykernel)",
   "language": "python",
   "name": "python3"
  },
  "language_info": {
   "codemirror_mode": {
    "name": "ipython",
    "version": 3
   },
   "file_extension": ".py",
   "mimetype": "text/x-python",
   "name": "python",
   "nbconvert_exporter": "python",
   "pygments_lexer": "ipython3",
   "version": "3.7.5"
  }
 },
 "nbformat": 4,
 "nbformat_minor": 5
}
