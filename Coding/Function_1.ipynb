{
 "cells": [
  {
   "cell_type": "markdown",
   "id": "01b1c582",
   "metadata": {},
   "source": [
    "# 1. itertools\n",
    "## 1_1. itertools - combinations"
   ]
  },
  {
   "cell_type": "code",
   "execution_count": 11,
   "id": "626771fd",
   "metadata": {},
   "outputs": [
    {
     "name": "stdout",
     "output_type": "stream",
     "text": [
      "(1, 2)\n",
      "(1, 3)\n",
      "(1, 4)\n",
      "(2, 3)\n",
      "(2, 4)\n",
      "(3, 4)\n",
      "**********\n",
      "(1, 2, 3)\n",
      "(1, 2, 4)\n",
      "(1, 3, 4)\n",
      "(2, 3, 4)\n"
     ]
    }
   ],
   "source": [
    "from itertools import combinations\n",
    "\n",
    "l = [1,2,3,4]\n",
    "for i in combinations(l,2):\n",
    "    print(i)\n",
    "    \n",
    "print(\"*\" * 10 )\n",
    "\n",
    "for i in combinations(l,3):\n",
    "    print(i)"
   ]
  },
  {
   "cell_type": "markdown",
   "id": "1d45b6ae",
   "metadata": {},
   "source": [
    "## 1_2. itertools - combinations_with_replacement"
   ]
  },
  {
   "cell_type": "code",
   "execution_count": 12,
   "id": "dd1f560a",
   "metadata": {},
   "outputs": [
    {
     "name": "stdout",
     "output_type": "stream",
     "text": [
      "(1, 1)\n",
      "(1, 2)\n",
      "(1, 3)\n",
      "(1, 4)\n",
      "(2, 2)\n",
      "(2, 3)\n",
      "(2, 4)\n",
      "(3, 3)\n",
      "(3, 4)\n",
      "(4, 4)\n",
      "**********\n",
      "(1, 1, 1)\n",
      "(1, 1, 2)\n",
      "(1, 1, 3)\n",
      "(1, 1, 4)\n",
      "(1, 2, 2)\n",
      "(1, 2, 3)\n",
      "(1, 2, 4)\n",
      "(1, 3, 3)\n",
      "(1, 3, 4)\n",
      "(1, 4, 4)\n",
      "(2, 2, 2)\n",
      "(2, 2, 3)\n",
      "(2, 2, 4)\n",
      "(2, 3, 3)\n",
      "(2, 3, 4)\n",
      "(2, 4, 4)\n",
      "(3, 3, 3)\n",
      "(3, 3, 4)\n",
      "(3, 4, 4)\n",
      "(4, 4, 4)\n"
     ]
    }
   ],
   "source": [
    "from itertools import combinations_with_replacement\n",
    "\n",
    "for i in combinations_with_replacement(l,2):\n",
    "    print(i)\n",
    "        \n",
    "print(\"*\" * 10 )\n",
    "\n",
    "for i in combinations_with_replacement(l,3):\n",
    "    print(i)"
   ]
  },
  {
   "cell_type": "markdown",
   "id": "e1f5e5db",
   "metadata": {},
   "source": [
    "## 1_3. itertools - product"
   ]
  },
  {
   "cell_type": "code",
   "execution_count": 17,
   "id": "36f55458",
   "metadata": {},
   "outputs": [
    {
     "name": "stdout",
     "output_type": "stream",
     "text": [
      "('A', '1')\n",
      "('A', '2')\n",
      "('B', '1')\n",
      "('B', '2')\n",
      "**********\n",
      "('A', '1', 'A', '1')\n",
      "('A', '1', 'A', '2')\n",
      "('A', '1', 'B', '1')\n",
      "('A', '1', 'B', '2')\n",
      "('A', '2', 'A', '1')\n",
      "('A', '2', 'A', '2')\n",
      "('A', '2', 'B', '1')\n",
      "('A', '2', 'B', '2')\n",
      "('B', '1', 'A', '1')\n",
      "('B', '1', 'A', '2')\n",
      "('B', '1', 'B', '1')\n",
      "('B', '1', 'B', '2')\n",
      "('B', '2', 'A', '1')\n",
      "('B', '2', 'A', '2')\n",
      "('B', '2', 'B', '1')\n",
      "('B', '2', 'B', '2')\n"
     ]
    }
   ],
   "source": [
    "from itertools import product\n",
    "\n",
    "l1 = ['A', 'B']\n",
    "l2 = ['1', '2']\n",
    "\n",
    "for i in product(l1,l2):\n",
    "    print(i)\n",
    "\n",
    "print(\"*\" * 10 )\n",
    "\n",
    "for i in product(l1,l2,repeat=2):\n",
    "    print(i)"
   ]
  },
  {
   "cell_type": "markdown",
   "id": "290a1343",
   "metadata": {},
   "source": [
    "# 2. collections\n",
    "## 2_1. collections - deque"
   ]
  },
  {
   "cell_type": "code",
   "execution_count": 2,
   "id": "fc3e422a",
   "metadata": {},
   "outputs": [
    {
     "data": {
      "text/plain": [
       "deque([1, 2, 3])"
      ]
     },
     "execution_count": 2,
     "metadata": {},
     "output_type": "execute_result"
    }
   ],
   "source": [
    "from collections import deque\n",
    "\n",
    "dq = deque()\n",
    "dq.append(1)\n",
    "dq.append(2)\n",
    "dq.append(3)\n",
    "dq"
   ]
  },
  {
   "cell_type": "code",
   "execution_count": 4,
   "id": "9c6b210c",
   "metadata": {},
   "outputs": [
    {
     "data": {
      "text/plain": [
       "deque([5, 4, 1, 2, 3])"
      ]
     },
     "execution_count": 4,
     "metadata": {},
     "output_type": "execute_result"
    }
   ],
   "source": [
    "dq.appendleft(4)\n",
    "dq.appendleft(5)\n",
    "dq"
   ]
  },
  {
   "cell_type": "code",
   "execution_count": 5,
   "id": "7947bd29",
   "metadata": {},
   "outputs": [
    {
     "data": {
      "text/plain": [
       "deque([5, 4, 1, 2, 3, 8, 9, 10])"
      ]
     },
     "execution_count": 5,
     "metadata": {},
     "output_type": "execute_result"
    }
   ],
   "source": [
    "l = [8,9,10]\n",
    "dq.extend(l)\n",
    "dq"
   ]
  },
  {
   "cell_type": "code",
   "execution_count": 6,
   "id": "cb1221d9",
   "metadata": {},
   "outputs": [
    {
     "data": {
      "text/plain": [
       "deque([10, 9, 8, 5, 4, 1, 2, 3, 8, 9, 10])"
      ]
     },
     "execution_count": 6,
     "metadata": {},
     "output_type": "execute_result"
    }
   ],
   "source": [
    "dq.extendleft(l)\n",
    "dq"
   ]
  },
  {
   "cell_type": "code",
   "execution_count": 7,
   "id": "aa800193",
   "metadata": {},
   "outputs": [
    {
     "data": {
      "text/plain": [
       "deque([8, 5, 4, 1, 2, 3, 8, 9, 10])"
      ]
     },
     "execution_count": 7,
     "metadata": {},
     "output_type": "execute_result"
    }
   ],
   "source": [
    "dq.remove(9)\n",
    "dq.remove(10)\n",
    "dq"
   ]
  },
  {
   "cell_type": "code",
   "execution_count": 8,
   "id": "e7bf2b0b",
   "metadata": {},
   "outputs": [
    {
     "data": {
      "text/plain": [
       "deque([10, 8, 5, 4, 1, 2, 3, 8, 9])"
      ]
     },
     "execution_count": 8,
     "metadata": {},
     "output_type": "execute_result"
    }
   ],
   "source": [
    "dq.rotate(1)\n",
    "dq"
   ]
  },
  {
   "cell_type": "code",
   "execution_count": 9,
   "id": "034e6336",
   "metadata": {},
   "outputs": [
    {
     "data": {
      "text/plain": [
       "deque([8, 9, 10, 8, 5, 4, 1, 2, 3])"
      ]
     },
     "execution_count": 9,
     "metadata": {},
     "output_type": "execute_result"
    }
   ],
   "source": [
    "dq.rotate(2)\n",
    "dq"
   ]
  },
  {
   "cell_type": "code",
   "execution_count": 10,
   "id": "28c85499",
   "metadata": {},
   "outputs": [
    {
     "name": "stdout",
     "output_type": "stream",
     "text": [
      "3\n",
      "deque([8, 9, 10, 8, 5, 4, 1, 2])\n"
     ]
    }
   ],
   "source": [
    "num = dq.pop()\n",
    "print(num)\n",
    "print(dq)"
   ]
  },
  {
   "cell_type": "code",
   "execution_count": 11,
   "id": "9088020e",
   "metadata": {},
   "outputs": [
    {
     "name": "stdout",
     "output_type": "stream",
     "text": [
      "8\n",
      "deque([9, 10, 8, 5, 4, 1, 2])\n"
     ]
    }
   ],
   "source": [
    "num = dq.popleft()\n",
    "print(num)\n",
    "print(dq)"
   ]
  },
  {
   "cell_type": "code",
   "execution_count": null,
   "id": "9baa5d97",
   "metadata": {},
   "outputs": [],
   "source": []
  }
 ],
 "metadata": {
  "kernelspec": {
   "display_name": "Python 3 (ipykernel)",
   "language": "python",
   "name": "python3"
  },
  "language_info": {
   "codemirror_mode": {
    "name": "ipython",
    "version": 3
   },
   "file_extension": ".py",
   "mimetype": "text/x-python",
   "name": "python",
   "nbconvert_exporter": "python",
   "pygments_lexer": "ipython3",
   "version": "3.7.5"
  }
 },
 "nbformat": 4,
 "nbformat_minor": 5
}
