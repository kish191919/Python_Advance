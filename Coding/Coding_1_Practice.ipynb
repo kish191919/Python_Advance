{
 "cells": [
  {
   "cell_type": "markdown",
   "id": "c22eb6ae",
   "metadata": {},
   "source": [
    "## N 이하의 소수리스트 반환"
   ]
  },
  {
   "cell_type": "code",
   "execution_count": 1,
   "id": "8e8c125e",
   "metadata": {},
   "outputs": [
    {
     "name": "stdout",
     "output_type": "stream",
     "text": [
      "[2, 3, 5, 7]\n"
     ]
    }
   ],
   "source": [
    "def func(N):\n",
    "    ck = [False for i in range(N+1)]\n",
    "    ret = []\n",
    "    for i in range(2, N+1):\n",
    "        if ck[i]:continue\n",
    "        ret.append(i)\n",
    "        for j in range(i**2,N+1,i):\n",
    "            ck[j]=True\n",
    "    return ret\n",
    "\n",
    "N = 10\n",
    "print(func(10))"
   ]
  },
  {
   "cell_type": "markdown",
   "id": "d49e38c5",
   "metadata": {},
   "source": [
    "## 최소 공배수"
   ]
  },
  {
   "cell_type": "code",
   "execution_count": 3,
   "id": "5bc6a189",
   "metadata": {},
   "outputs": [
    {
     "name": "stdout",
     "output_type": "stream",
     "text": [
      "5\n"
     ]
    }
   ],
   "source": [
    "def func(a, b):\n",
    "    return a if b==0 else func(b, a%b)\n",
    "\n",
    "print(func(50, 65))"
   ]
  },
  {
   "cell_type": "code",
   "execution_count": 8,
   "id": "2db00ddf",
   "metadata": {},
   "outputs": [
    {
     "name": "stdout",
     "output_type": "stream",
     "text": [
      "2.857142857142857\n",
      "2\n"
     ]
    }
   ],
   "source": []
  },
  {
   "cell_type": "code",
   "execution_count": null,
   "id": "a8e40186",
   "metadata": {},
   "outputs": [],
   "source": []
  }
 ],
 "metadata": {
  "kernelspec": {
   "display_name": "Python 3 (ipykernel)",
   "language": "python",
   "name": "python3"
  },
  "language_info": {
   "codemirror_mode": {
    "name": "ipython",
    "version": 3
   },
   "file_extension": ".py",
   "mimetype": "text/x-python",
   "name": "python",
   "nbconvert_exporter": "python",
   "pygments_lexer": "ipython3",
   "version": "3.7.5"
  }
 },
 "nbformat": 4,
 "nbformat_minor": 5
}
