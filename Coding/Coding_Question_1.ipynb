{
 "cells": [
  {
   "cell_type": "markdown",
   "id": "a8e91ca3",
   "metadata": {},
   "source": [
    "## 1. N 이하의 소수리스트 반환\n",
    "\n",
    "- Input : 10\n",
    "- Output : [2, 3, 5, 7]"
   ]
  },
  {
   "cell_type": "code",
   "execution_count": null,
   "id": "b9f6829d",
   "metadata": {},
   "outputs": [],
   "source": [
    "def func(n):\n",
    "    ck = [False for _ in range(n+1)]\n",
    "    ret = []\n",
    "    \n",
    "    for index in range(2, n+1):\n",
    "        if ck[index]:\n",
    "            continue\n",
    "        ret.append(index)\n",
    "        \n",
    "        for index2 in range(index**2, n+1, index):\n",
    "            ck[index2] = True\n",
    "    return ret"
   ]
  },
  {
   "cell_type": "code",
   "execution_count": 2,
   "id": "62368480",
   "metadata": {},
   "outputs": [
    {
     "name": "stdout",
     "output_type": "stream",
     "text": [
      "[2, 3, 5, 7]\n"
     ]
    }
   ],
   "source": [
    "print(func(10))   "
   ]
  },
  {
   "cell_type": "markdown",
   "id": "148ef962",
   "metadata": {},
   "source": [
    "## 2. 최소 공배수\n",
    "- Input : 50 80\n",
    "- Output : 10"
   ]
  },
  {
   "cell_type": "code",
   "execution_count": null,
   "id": "88d37ab8",
   "metadata": {},
   "outputs": [],
   "source": [
    "def func(a,b):\n",
    "    return a if b ==0 else func(b, a%b)"
   ]
  },
  {
   "cell_type": "code",
   "execution_count": 3,
   "id": "1bd8af4e",
   "metadata": {},
   "outputs": [
    {
     "name": "stdout",
     "output_type": "stream",
     "text": [
      "10\n"
     ]
    }
   ],
   "source": [
    "print(func(50, 80))"
   ]
  },
  {
   "cell_type": "markdown",
   "id": "deab92bc",
   "metadata": {},
   "source": [
    "## 3. 15969 행복\n",
    "https://www.acmicpc.net/problem/15969 \n",
    "\n",
    "- 문제 : 가장 높은 점수와 가장 낮은 점수의 차이\n",
    "    - Input : 27 35 92 75 42\n",
    "    - Output : 65"
   ]
  },
  {
   "cell_type": "code",
   "execution_count": null,
   "id": "ba521871",
   "metadata": {},
   "outputs": [],
   "source": [
    "def func(data):\n",
    "    return max(data) - min(data)"
   ]
  },
  {
   "cell_type": "code",
   "execution_count": 4,
   "id": "95a46add",
   "metadata": {},
   "outputs": [
    {
     "data": {
      "text/plain": [
       "65"
      ]
     },
     "execution_count": 4,
     "metadata": {},
     "output_type": "execute_result"
    }
   ],
   "source": [
    "func([27,35,92,75,42])"
   ]
  },
  {
   "cell_type": "markdown",
   "id": "231b9736",
   "metadata": {},
   "source": [
    "## 4. 10539 수빈이와 수열 \n",
    "https://www.acmicpc.net/problem/10539\n",
    "\n",
    "- 수열 A : 1, 3, 2, 6, 8\n",
    "- 수열 B : 1, 2, 2, 3, 4\n",
    "- 수열 A -> B 식 : 1/1, (1+3)/2, (1+3+2)/3, (1+3+2+6)/4, (1+3+2+6+8)/5\n",
    "\n",
    "- 문제 : 수열 B가 주어졌을때 수열 A를 구하여라\n",
    "    * Input : 1 2 2 3 4\n",
    "    * Output : 1 3 2 6 8 "
   ]
  },
  {
   "cell_type": "code",
   "execution_count": null,
   "id": "f79473a7",
   "metadata": {},
   "outputs": [],
   "source": [
    "def func(data):\n",
    "    a = [data[0]]\n",
    "    for index in range(1, len(data)):\n",
    "        a.append(data[index]*(index+1)-sum(a))\n",
    "    return a"
   ]
  },
  {
   "cell_type": "code",
   "execution_count": 7,
   "id": "13282fdf",
   "metadata": {},
   "outputs": [
    {
     "data": {
      "text/plain": [
       "[1, 3, 2, 6, 8]"
      ]
     },
     "execution_count": 7,
     "metadata": {},
     "output_type": "execute_result"
    }
   ],
   "source": [
    "func([1,2,2,3,4])"
   ]
  },
  {
   "cell_type": "markdown",
   "id": "cdaed5bf",
   "metadata": {},
   "source": [
    "## 5. 1920 수 찾기\n",
    "https://www.acmicpc.net/problem/1920\n",
    "\n",
    "- 문제 : N개의 정수 A[1], A[2], …, A[N]이 주어져 있을 때, 이 안에 X라는 정수가 존재하는지 알아내는 프로그램을 작성하시오.\n",
    "\n",
    "- 입력 :\n",
    "첫째 줄에 자연수 N(1 ≤ N ≤ 100,000)이 주어진다. 다음 줄에는 N개의 정수 A[1], A[2], …, A[N]이 주어진다. 다음 줄에는 M(1 ≤ M ≤ 100,000)이 주어진다. 다음 줄에는 M개의 수들이 주어지는데, 이 수들이 A안에 존재하는지 알아내면 된다. 모든 정수의 범위는 -231 보다 크거나 같고 231보다 작다.\n",
    "\n",
    "![image](https://user-images.githubusercontent.com/26552500/192077077-f09b4d72-c6ec-4cb0-b614-b8bb083dbccc.png)"
   ]
  },
  {
   "cell_type": "code",
   "execution_count": null,
   "id": "45f74380",
   "metadata": {},
   "outputs": [],
   "source": [
    "def func(a,b):\n",
    "    a = { num : 1 for num in a}\n",
    "    for num in b:\n",
    "        print(a.get(num,0))    "
   ]
  },
  {
   "cell_type": "code",
   "execution_count": null,
   "id": "64777a01",
   "metadata": {},
   "outputs": [],
   "source": [
    "    a = [4,1,5,2,3]\n",
    "b = [1,3,7,9,5]\n",
    "\n",
    "func(a,b)"
   ]
  },
  {
   "cell_type": "markdown",
   "id": "468d7e45",
   "metadata": {},
   "source": [
    "## 6. 버블 정렬"
   ]
  },
  {
   "cell_type": "code",
   "execution_count": 10,
   "id": "5554ed46",
   "metadata": {},
   "outputs": [
    {
     "name": "stdout",
     "output_type": "stream",
     "text": [
      "[2, 41, 86, 82, 69, 70, 28, 59, 3, 47, 18, 90, 55, 56, 76, 27, 35, 45, 19, 68, 6, 21, 64, 16, 85, 60, 96, 9, 40, 49, 33, 24, 87, 84, 37, 54, 92, 31, 80, 81, 8, 61, 78, 52, 23, 67, 79, 1, 4, 38]\n"
     ]
    }
   ],
   "source": [
    "import random\n",
    "\n",
    "data_list = random.sample(range(100),50)\n",
    "print(data_list)"
   ]
  },
  {
   "cell_type": "code",
   "execution_count": null,
   "id": "23b2118b",
   "metadata": {},
   "outputs": [],
   "source": [
    "def bubble(data):\n",
    "    for index in range(len(data)-1):\n",
    "        swap = False\n",
    "        for index2 in range(len(data)-index-1):\n",
    "\n",
    "            if data[index2] > data[index2+1]:\n",
    "                data[index2], data[index2+1] = data[index2+1], data[index2]\n",
    "                swap = True\n",
    "        if swap == False:\n",
    "            break\n",
    "    return data"
   ]
  },
  {
   "cell_type": "code",
   "execution_count": 15,
   "id": "c9b831ff",
   "metadata": {},
   "outputs": [
    {
     "name": "stdout",
     "output_type": "stream",
     "text": [
      "[1, 2, 3, 4, 6, 8, 9, 16, 18, 19, 21, 23, 24, 27, 28, 31, 33, 35, 37, 38, 40, 41, 45, 47, 49, 52, 54, 55, 56, 59, 60, 61, 64, 67, 68, 69, 70, 76, 78, 79, 80, 81, 82, 84, 85, 86, 87, 90, 92, 96]\n"
     ]
    }
   ],
   "source": [
    "print(bubble(data_list))"
   ]
  },
  {
   "cell_type": "markdown",
   "id": "9a57710b",
   "metadata": {},
   "source": [
    "## 7. 삽입 정렬"
   ]
  },
  {
   "cell_type": "code",
   "execution_count": 17,
   "id": "8e630905",
   "metadata": {},
   "outputs": [
    {
     "name": "stdout",
     "output_type": "stream",
     "text": [
      "[62, 42, 71, 86, 13, 69, 88, 10, 49, 15, 39, 24, 92, 40, 75, 50, 22, 20, 84, 46, 16, 54, 76, 98, 30, 70, 63, 37, 7, 67, 9, 28, 96, 94, 44, 64, 29, 73, 90, 48, 36, 51, 17, 57, 85, 89, 32, 55, 45, 5]\n"
     ]
    }
   ],
   "source": [
    "data_list = random.sample(range(100),50)\n",
    "print(data_list)"
   ]
  },
  {
   "cell_type": "code",
   "execution_count": null,
   "id": "63868dd9",
   "metadata": {},
   "outputs": [],
   "source": [
    "def insert_sort(data):\n",
    "    for index in range(len(data)-1):\n",
    "        for index2 in range(index+1, 0, -1):\n",
    "            if data[index2] < data[index2-1]:\n",
    "                data[index2], data[index2-1]= data[index2-1], data[index2]\n",
    "            else:\n",
    "                break\n",
    "    return data"
   ]
  },
  {
   "cell_type": "code",
   "execution_count": 18,
   "id": "2e816b07",
   "metadata": {},
   "outputs": [
    {
     "name": "stdout",
     "output_type": "stream",
     "text": [
      "[5, 7, 9, 10, 13, 15, 16, 17, 20, 22, 24, 28, 29, 30, 32, 36, 37, 39, 40, 42, 44, 45, 46, 48, 49, 50, 51, 54, 55, 57, 62, 63, 64, 67, 69, 70, 71, 73, 75, 76, 84, 85, 86, 88, 89, 90, 92, 94, 96, 98]\n"
     ]
    }
   ],
   "source": [
    "print(insert_sort(data_list))"
   ]
  },
  {
   "cell_type": "markdown",
   "id": "b2e40006",
   "metadata": {},
   "source": [
    "## 8. 선택 정렬"
   ]
  },
  {
   "cell_type": "code",
   "execution_count": 19,
   "id": "e1cd8ce8",
   "metadata": {},
   "outputs": [
    {
     "name": "stdout",
     "output_type": "stream",
     "text": [
      "[69, 54, 92, 72, 43, 98, 8, 11, 59, 78, 28, 47, 31, 64, 36, 30, 21, 87, 90, 19, 13, 22, 55, 65, 45, 96, 77, 58, 50, 26, 81, 23, 14, 61, 91, 10, 82, 37, 15, 40, 20, 49, 25, 66, 41, 79, 93, 74, 71, 33]\n"
     ]
    }
   ],
   "source": [
    "data_list = random.sample(range(100),50)\n",
    "print(data_list)"
   ]
  },
  {
   "cell_type": "code",
   "execution_count": null,
   "id": "d5efe581",
   "metadata": {},
   "outputs": [],
   "source": [
    "def selection_sort(data):\n",
    "    for stand in range(len(data)-1):\n",
    "        \n",
    "        min_index = stand\n",
    "        for index in range(stand+1, len(data)):\n",
    "            if data[min_index] > data[index]:\n",
    "                min_index = index\n",
    "            \n",
    "            data[stand], data[min_index] = data[min_index], data[stand]\n",
    "    return data"
   ]
  },
  {
   "cell_type": "code",
   "execution_count": 20,
   "id": "a114ba3d",
   "metadata": {},
   "outputs": [
    {
     "name": "stdout",
     "output_type": "stream",
     "text": [
      "[10, 8, 13, 11, 14, 19, 21, 22, 23, 26, 28, 30, 31, 33, 15, 20, 25, 37, 36, 40, 41, 43, 45, 47, 49, 50, 54, 55, 58, 59, 61, 64, 66, 65, 69, 71, 74, 72, 77, 78, 79, 81, 82, 87, 90, 91, 92, 93, 96, 98]\n"
     ]
    }
   ],
   "source": [
    "print(selection_sort(data_list))"
   ]
  },
  {
   "cell_type": "markdown",
   "id": "645beb74",
   "metadata": {},
   "source": [
    "## 9. 피보나치 수열 [재귀적]"
   ]
  },
  {
   "cell_type": "code",
   "execution_count": null,
   "id": "315525cd",
   "metadata": {},
   "outputs": [],
   "source": [
    "def func(num):\n",
    "    if num < 2:\n",
    "        return num\n",
    "    return func(num-1)+func(num-2)"
   ]
  },
  {
   "cell_type": "code",
   "execution_count": 21,
   "id": "7425a0aa",
   "metadata": {},
   "outputs": [
    {
     "data": {
      "text/plain": [
       "55"
      ]
     },
     "execution_count": 21,
     "metadata": {},
     "output_type": "execute_result"
    }
   ],
   "source": [
    "func(10)"
   ]
  },
  {
   "cell_type": "markdown",
   "id": "18c670a6",
   "metadata": {},
   "source": [
    "## 10. 피보나치 수열 [DP]"
   ]
  },
  {
   "cell_type": "code",
   "execution_count": null,
   "id": "731cf5e4",
   "metadata": {},
   "outputs": [],
   "source": [
    "def func(num):\n",
    "    if num < 2:\n",
    "        return num\n",
    "    \n",
    "    cache = [0 for _ in range(num+1)]\n",
    "    cache[0]=0\n",
    "    cache[1]=1\n",
    "    for i in range(2, num+1):\n",
    "        cache[i] = cache[i-1]+cache[i-2]\n",
    "    return cache[num]"
   ]
  },
  {
   "cell_type": "code",
   "execution_count": 23,
   "id": "e9872126",
   "metadata": {},
   "outputs": [
    {
     "data": {
      "text/plain": [
       "55"
      ]
     },
     "execution_count": 23,
     "metadata": {},
     "output_type": "execute_result"
    }
   ],
   "source": [
    "func(10)"
   ]
  },
  {
   "cell_type": "markdown",
   "id": "fefecfee",
   "metadata": {},
   "source": [
    "## 11. Factorial"
   ]
  },
  {
   "cell_type": "code",
   "execution_count": null,
   "id": "923f789e",
   "metadata": {},
   "outputs": [],
   "source": [
    "def factorial(num):\n",
    "    if num > 1:\n",
    "        return num * factorial(num-1)\n",
    "    else:\n",
    "        return 1"
   ]
  },
  {
   "cell_type": "code",
   "execution_count": 25,
   "id": "65fbcc83",
   "metadata": {},
   "outputs": [
    {
     "data": {
      "text/plain": [
       "120"
      ]
     },
     "execution_count": 25,
     "metadata": {},
     "output_type": "execute_result"
    }
   ],
   "source": [
    "factorial(5)"
   ]
  },
  {
   "cell_type": "markdown",
   "id": "61df682e",
   "metadata": {},
   "source": [
    "## 12. 숫자 범위안에 드는지 확인\n",
    "![image](https://user-images.githubusercontent.com/26552500/192069814-2ed24bf8-99f3-4ebb-9768-d0b4807af0fb.png)"
   ]
  },
  {
   "cell_type": "code",
   "execution_count": 29,
   "id": "f486610a",
   "metadata": {},
   "outputs": [],
   "source": [
    "def func(numbers, left, right):\n",
    "    ret = []\n",
    "    for index in range(len(numbers)):\n",
    "        num = numbers[index]\n",
    "        m,n = divmod(num, index+1)\n",
    "        if n != 0:\n",
    "            ret.append(False)\n",
    "        else:\n",
    "            if left <= m and m <= right:\n",
    "                ret.append(True)\n",
    "            else:\n",
    "                ret.append(False)\n",
    "    return ret"
   ]
  },
  {
   "cell_type": "code",
   "execution_count": 30,
   "id": "27d330d4",
   "metadata": {},
   "outputs": [
    {
     "data": {
      "text/plain": [
       "[False, False, True, False, True]"
      ]
     },
     "execution_count": 30,
     "metadata": {},
     "output_type": "execute_result"
    }
   ],
   "source": [
    "numbers = [8,5,6,16,5]\n",
    "left = 1\n",
    "right = 3\n",
    "\n",
    "func(numbers, left, right)"
   ]
  },
  {
   "cell_type": "markdown",
   "id": "75c5ee48",
   "metadata": {},
   "source": [
    "## 13. 작은 숫자쌍 반환\n",
    "\n",
    "![image](https://user-images.githubusercontent.com/26552500/192070205-c5557954-4f69-4567-aba2-dcf154635d9d.png)"
   ]
  },
  {
   "cell_type": "code",
   "execution_count": 31,
   "id": "0b9f540f",
   "metadata": {},
   "outputs": [],
   "source": [
    "def func(a, b, k):\n",
    "    count = 0\n",
    "    for i, j in zip(a, b[::-1]):\n",
    "        num = int(str(i)+str(j))\n",
    "        if num < k:\n",
    "            count += 1\n",
    "    return count"
   ]
  },
  {
   "cell_type": "code",
   "execution_count": 32,
   "id": "b7888a7d",
   "metadata": {},
   "outputs": [
    {
     "data": {
      "text/plain": [
       "4"
      ]
     },
     "execution_count": 32,
     "metadata": {},
     "output_type": "execute_result"
    }
   ],
   "source": [
    "a = [16,1,4,2,14]\n",
    "b = [7,11,2,0,15]\n",
    "k = 743\n",
    "\n",
    "func(a, b, k)"
   ]
  },
  {
   "cell_type": "markdown",
   "id": "573bc1c7",
   "metadata": {},
   "source": [
    "## 14. quick sort"
   ]
  },
  {
   "cell_type": "code",
   "execution_count": 14,
   "id": "80048b0b",
   "metadata": {},
   "outputs": [
    {
     "name": "stdout",
     "output_type": "stream",
     "text": [
      "[32, 67, 85, 95, 69, 61, 81, 16, 5, 17]\n"
     ]
    }
   ],
   "source": [
    "import random\n",
    "\n",
    "data_list = random.sample(range(100),10)\n",
    "print(data_list)"
   ]
  },
  {
   "cell_type": "code",
   "execution_count": 15,
   "id": "8dbc0444",
   "metadata": {},
   "outputs": [],
   "source": [
    "def quick_sort(data):\n",
    "    if len(data) <= 1:\n",
    "        return data\n",
    "    \n",
    "    pivot = data[0]\n",
    "    left, right = list(), list()\n",
    "    \n",
    "    for index in range(1,len(data)):\n",
    "        if pivot > data[index]:\n",
    "            left.append(data[index])\n",
    "        else:\n",
    "            right.append(data[index])\n",
    "    return quick_sort(left) + [pivot] + quick_sort(right)"
   ]
  },
  {
   "cell_type": "code",
   "execution_count": 16,
   "id": "11e2848a",
   "metadata": {},
   "outputs": [
    {
     "data": {
      "text/plain": [
       "[5, 16, 17, 32, 61, 67, 69, 81, 85, 95]"
      ]
     },
     "execution_count": 16,
     "metadata": {},
     "output_type": "execute_result"
    }
   ],
   "source": [
    "quick_sort(data_list)   "
   ]
  },
  {
   "cell_type": "markdown",
   "id": "cc715474",
   "metadata": {},
   "source": [
    "## 15. quick sort with list comprehension"
   ]
  },
  {
   "cell_type": "code",
   "execution_count": 11,
   "id": "0b58e2c5",
   "metadata": {},
   "outputs": [
    {
     "name": "stdout",
     "output_type": "stream",
     "text": [
      "[27, 48, 10, 99, 98, 50, 58, 7, 43, 55]\n"
     ]
    }
   ],
   "source": [
    "import random\n",
    "\n",
    "data_list = random.sample(range(100),10)\n",
    "print(data_list)"
   ]
  },
  {
   "cell_type": "code",
   "execution_count": 12,
   "id": "d115d5db",
   "metadata": {},
   "outputs": [],
   "source": [
    "def quick_sort_lc(data):\n",
    "    if len(data) <= 1:\n",
    "        return data\n",
    "    \n",
    "    pivot = data[0]\n",
    "    \n",
    "    left = [item for item in data[1:] if item < pivot]\n",
    "    right = [item for item in data[1:] if item >= pivot]\n",
    "    \n",
    "    return quick_sort_lc(left)+[pivot]+quick_sort_lc(right)"
   ]
  },
  {
   "cell_type": "code",
   "execution_count": 13,
   "id": "0988d535",
   "metadata": {},
   "outputs": [
    {
     "data": {
      "text/plain": [
       "[7, 10, 27, 43, 48, 50, 55, 58, 98, 99]"
      ]
     },
     "execution_count": 13,
     "metadata": {},
     "output_type": "execute_result"
    }
   ],
   "source": [
    "quick_sort_lc(data_list)"
   ]
  },
  {
   "cell_type": "markdown",
   "id": "b84b210e",
   "metadata": {},
   "source": [
    "## 16. Merge Sort"
   ]
  },
  {
   "cell_type": "code",
   "execution_count": 17,
   "id": "b142fd6f",
   "metadata": {},
   "outputs": [
    {
     "name": "stdout",
     "output_type": "stream",
     "text": [
      "[17, 37, 79, 92, 60, 75, 36, 93, 59, 6]\n"
     ]
    }
   ],
   "source": [
    "import random\n",
    "\n",
    "data_list = random.sample(range(100),10)\n",
    "print(data_list)"
   ]
  },
  {
   "cell_type": "code",
   "execution_count": 18,
   "id": "dad7cfcf",
   "metadata": {},
   "outputs": [],
   "source": [
    "def merged(left, right):\n",
    "    merged_data = []\n",
    "    left_point, right_point = 0,0\n",
    "    \n",
    "    while len(left) > left_point and len(right) > right_point:\n",
    "        if left[left_point] > right[right_point]:\n",
    "            merged_data.append(right[right_point])\n",
    "            right_point += 1\n",
    "        else:\n",
    "            merged_data.append(left[left_point])\n",
    "            left_point += 1\n",
    "    \n",
    "    \n",
    "    while len(left) > left_point:\n",
    "        merged_data.append(left[left_point])\n",
    "        left_point += 1\n",
    "        \n",
    "    \n",
    "    while len(right) > right_point:\n",
    "        merged_data.append(right[right_point])\n",
    "        right_point += 1\n",
    "    \n",
    "    return merged_data\n",
    "\n",
    "\n",
    "\n",
    "def split_data(data):\n",
    "    if len(data) <=1:\n",
    "        return data\n",
    "    \n",
    "    midium = int(len(data)/2)\n",
    "    \n",
    "    left = split_data(data[:midium])\n",
    "    right = split_data(data[midium:])\n",
    "    \n",
    "    return merged(left, right)"
   ]
  },
  {
   "cell_type": "code",
   "execution_count": 19,
   "id": "a1c8334f",
   "metadata": {},
   "outputs": [
    {
     "data": {
      "text/plain": [
       "[6, 17, 36, 37, 59, 60, 75, 79, 92, 93]"
      ]
     },
     "execution_count": 19,
     "metadata": {},
     "output_type": "execute_result"
    }
   ],
   "source": [
    "split_data(data_list)"
   ]
  },
  {
   "cell_type": "markdown",
   "id": "4f62668f",
   "metadata": {},
   "source": [
    "## 17 . 새로운 리스트 만들기\n",
    "<img width=\"786\" alt=\"image\" src=\"https://user-images.githubusercontent.com/26552500/192125052-b4862b40-617a-47aa-b8fe-0b4374181311.png\">"
   ]
  },
  {
   "cell_type": "code",
   "execution_count": 20,
   "id": "527b9253",
   "metadata": {},
   "outputs": [],
   "source": [
    "def solution(a):\n",
    "    if len(a) < 2:\n",
    "        return a\n",
    "    \n",
    "    ret = []\n",
    "    for i in range(len(a)):\n",
    "      \n",
    "        if i == 0:\n",
    "            b = 0 + a[i] + a[i+1]\n",
    "            ret.append(b)\n",
    "        elif i == (len(a)-1):\n",
    "            b = a[i-1] + a[i] + 0\n",
    "            ret.append(b)\n",
    "        else:\n",
    "            b = a[i-1] + a[i] + a[i+1]\n",
    "            ret.append(b)     \n",
    "            \n",
    "    return ret\n"
   ]
  },
  {
   "cell_type": "code",
   "execution_count": 21,
   "id": "d219064f",
   "metadata": {
    "scrolled": true
   },
   "outputs": [
    {
     "data": {
      "text/plain": [
       "[4, 5, -1, 2, 1]"
      ]
     },
     "execution_count": 21,
     "metadata": {},
     "output_type": "execute_result"
    }
   ],
   "source": [
    "a = [4, 0, 1, -2, 3]\n",
    "\n",
    "solution(a)"
   ]
  },
  {
   "cell_type": "markdown",
   "id": "b693df33",
   "metadata": {},
   "source": [
    "## 18. 이진 탐색"
   ]
  },
  {
   "cell_type": "code",
   "execution_count": 31,
   "id": "9f4cdc26",
   "metadata": {},
   "outputs": [],
   "source": [
    "def binary_search(data, search):\n",
    "    print(data)\n",
    "    if len(data)==1 and data[0] == search:\n",
    "        return True\n",
    "    if len(data)==1 and data[0]!= search:\n",
    "        return False\n",
    "    if len(data)==0:\n",
    "        return False\n",
    "    \n",
    "    mid = len(data)//2\n",
    "    if search == data[mid]:\n",
    "        return True\n",
    "    else:\n",
    "        if search > data[mid]:\n",
    "            return binary_search(data[mid+1:],search)\n",
    "        else:\n",
    "            return binary_search(data[:mid], search)\n",
    "        "
   ]
  },
  {
   "cell_type": "code",
   "execution_count": 32,
   "id": "886d2624",
   "metadata": {},
   "outputs": [
    {
     "data": {
      "text/plain": [
       "[3, 7, 9, 26, 42, 55, 56, 77, 98, 99]"
      ]
     },
     "execution_count": 32,
     "metadata": {},
     "output_type": "execute_result"
    }
   ],
   "source": [
    "import random \n",
    "data_list = random.sample(range(100),10)\n",
    "data_list.sort()\n",
    "data_list"
   ]
  },
  {
   "cell_type": "code",
   "execution_count": 35,
   "id": "f196fafd",
   "metadata": {},
   "outputs": [
    {
     "name": "stdout",
     "output_type": "stream",
     "text": [
      "[3, 7, 9, 26, 42, 55, 56, 77, 98, 99]\n",
      "[3, 7, 9, 26, 42]\n",
      "[3, 7]\n",
      "True\n"
     ]
    }
   ],
   "source": [
    "print(binary_search(data_list, 7))\n",
    "# print(binary_search(data_list, 90))"
   ]
  },
  {
   "cell_type": "markdown",
   "id": "bd6e0370",
   "metadata": {},
   "source": [
    "## 19. Hash Table 만들기"
   ]
  },
  {
   "cell_type": "code",
   "execution_count": 38,
   "id": "f2c8ee9f",
   "metadata": {},
   "outputs": [],
   "source": [
    "hash_table = [0 for i in range(8)]\n",
    "\n",
    "def hash_key(data):\n",
    "    return hash(data)\n",
    "\n",
    "def hash_address(key):\n",
    "    return key % 8\n",
    "\n",
    "def save_data(data,value):\n",
    "    hash_address_data = hash_address(hash_key(data))\n",
    "    hash_table[hash_address_data]=value\n",
    "    \n",
    "def read_data(data):\n",
    "    hash_address_data = hash_address(hash_key(data))\n",
    "    return hash_table[hash_address_data]"
   ]
  },
  {
   "cell_type": "code",
   "execution_count": 40,
   "id": "42df9db8",
   "metadata": {},
   "outputs": [
    {
     "name": "stdout",
     "output_type": "stream",
     "text": [
      "01564564584\n",
      "['77777779998', 0, 0, 0, 0, '01564564584', 0, 0]\n"
     ]
    }
   ],
   "source": [
    "save_data('Dave', '01564564584')\n",
    "save_data('Anthony', '77777779998')\n",
    "\n",
    "print(read_data('Dave'))\n",
    "print(hash_table)"
   ]
  }
 ],
 "metadata": {
  "kernelspec": {
   "display_name": "Python 3 (ipykernel)",
   "language": "python",
   "name": "python3"
  },
  "language_info": {
   "codemirror_mode": {
    "name": "ipython",
    "version": 3
   },
   "file_extension": ".py",
   "mimetype": "text/x-python",
   "name": "python",
   "nbconvert_exporter": "python",
   "pygments_lexer": "ipython3",
   "version": "3.7.5"
  }
 },
 "nbformat": 4,
 "nbformat_minor": 5
}
