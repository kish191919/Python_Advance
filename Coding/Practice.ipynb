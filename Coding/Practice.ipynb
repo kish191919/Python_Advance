{
 "cells": [
  {
   "cell_type": "code",
   "execution_count": 3,
   "id": "54477b98",
   "metadata": {},
   "outputs": [
    {
     "name": "stdout",
     "output_type": "stream",
     "text": [
      "[7, 74, 55, 27, 17, 44, 86, 0, 45, 72, 9, 21, 22, 97, 58, 63, 98, 78, 54, 35, 26, 73, 18, 83, 64, 10, 59, 33, 88, 89, 91, 34, 14, 50, 6, 95, 31, 81, 84, 87, 32, 42, 3, 66, 28, 1, 40, 36, 69, 23]\n",
      "[0, 1, 3, 6, 7, 9, 10, 14, 17, 18, 21, 22, 23, 26, 27, 28, 31, 32, 33, 34, 35, 36, 40, 42, 44, 45, 50, 54, 55, 58, 59, 63, 64, 66, 69, 72, 73, 74, 78, 81, 83, 84, 86, 87, 88, 89, 91, 95, 97, 98]\n"
     ]
    }
   ],
   "source": [
    "def bubble(data):\n",
    "    for i in range(len(data)-1):\n",
    "        swap = False\n",
    "        \n",
    "        for j in range(len(data)-i-1):\n",
    "            if data[j]>data[j+1]:\n",
    "                data[j], data[j+1] = data[j+1], data[j]\n",
    "                swap = True\n",
    "        if swap == False:\n",
    "            break\n",
    "    return data\n",
    "\n",
    "import random\n",
    "data_list = random.sample(range(100), 50)\n",
    "print(data_list)\n",
    "print(bubble(data_list))"
   ]
  },
  {
   "cell_type": "code",
   "execution_count": 4,
   "id": "f7896618",
   "metadata": {},
   "outputs": [
    {
     "name": "stdout",
     "output_type": "stream",
     "text": [
      "[63, 7, 52, 64, 21, 61, 51, 98, 90, 89, 78, 35, 20, 97, 69, 25, 70, 74, 48, 76, 19, 24, 50, 28, 58, 73, 5, 22, 42, 4, 65, 16, 38, 43, 13, 68, 11, 71, 10, 59, 92, 94, 31, 15, 0, 2, 32, 23, 46, 62]\n",
      "[0, 2, 4, 5, 7, 10, 11, 13, 15, 16, 19, 20, 21, 22, 23, 24, 25, 28, 31, 32, 35, 38, 42, 43, 46, 48, 50, 51, 52, 58, 59, 61, 62, 63, 64, 65, 68, 69, 70, 71, 73, 74, 76, 78, 89, 90, 92, 94, 97, 98]\n"
     ]
    }
   ],
   "source": [
    "def insert_sort(data):\n",
    "    for index in range(len(data)-1):\n",
    "        for index2 in range(index+1,0, -1):\n",
    "            if data[index2] < data[index2-1]:\n",
    "                data[index2], data[index2-1]= data[index2-1], data[index2]\n",
    "            else:\n",
    "                break\n",
    "    return data\n",
    "\n",
    "data_list = random.sample(range(100), 50)\n",
    "print(data_list)\n",
    "print(insert_sort(data_list))"
   ]
  },
  {
   "cell_type": "code",
   "execution_count": 6,
   "id": "bf75c04e",
   "metadata": {},
   "outputs": [
    {
     "name": "stdout",
     "output_type": "stream",
     "text": [
      "[47, 33, 46, 56, 83, 30, 28, 98, 86, 7, 35, 79, 51, 87, 50, 42, 78, 18, 0, 4, 66, 13, 99, 43, 68, 97, 22, 5, 75, 8, 27, 23, 10, 90, 34, 61, 53, 2, 58, 31, 24, 88, 92, 16, 54, 76, 38, 55, 48, 17]\n",
      "[0, 2, 4, 5, 7, 8, 10, 13, 16, 17, 18, 22, 23, 24, 27, 28, 30, 31, 33, 34, 35, 38, 42, 43, 46, 47, 48, 50, 51, 53, 54, 55, 56, 58, 61, 66, 68, 75, 76, 78, 79, 83, 86, 87, 88, 90, 92, 97, 98, 99]\n"
     ]
    }
   ],
   "source": [
    "def selection_sort(data):\n",
    "    for stand in range(len(data)-1):\n",
    "        lowest = stand\n",
    "        for index in range(stand +1, len(data)):\n",
    "            if data[lowest] > data[index]:\n",
    "                lowest = index\n",
    "        data[lowest], data[stand] = data[stand], data[lowest]\n",
    "    return data\n",
    "\n",
    "data_list = random.sample(range(100), 50)\n",
    "print(data_list)\n",
    "print(insert_sort(data_list))"
   ]
  },
  {
   "cell_type": "code",
   "execution_count": 12,
   "id": "cacd3459",
   "metadata": {},
   "outputs": [
    {
     "name": "stdout",
     "output_type": "stream",
     "text": [
      "55\n"
     ]
    }
   ],
   "source": [
    "### recursive call 활용\n",
    "### 피보나치 수열\n",
    "\n",
    "def fibo(num):\n",
    "    if num <= 1:\n",
    "        return num\n",
    "    \n",
    "    return fibo(num-1)+fibo(num-2)\n",
    "\n",
    "print(fibo(10))"
   ]
  },
  {
   "cell_type": "code",
   "execution_count": 13,
   "id": "ed22ad1a",
   "metadata": {},
   "outputs": [
    {
     "name": "stdout",
     "output_type": "stream",
     "text": [
      "55\n"
     ]
    }
   ],
   "source": [
    "print(fibo(8)+fibo(9))"
   ]
  },
  {
   "cell_type": "code",
   "execution_count": 14,
   "id": "d25909d5",
   "metadata": {},
   "outputs": [
    {
     "name": "stdout",
     "output_type": "stream",
     "text": [
      "55\n"
     ]
    }
   ],
   "source": [
    "### 동적 계획법 활용\n",
    "def fibo_dp(num):\n",
    "    cache = [0 for index in range(num+1)]\n",
    "    cache[0] = 0\n",
    "    cache[1] = 1\n",
    "    \n",
    "    for index in range(2,num+1):\n",
    "        cache[index] = cache[index-1] + cache[index-2]\n",
    "    return cache[num]\n",
    "\n",
    "print(fibo_dp(10))"
   ]
  },
  {
   "cell_type": "code",
   "execution_count": null,
   "id": "eaff3157",
   "metadata": {},
   "outputs": [],
   "source": []
  }
 ],
 "metadata": {
  "kernelspec": {
   "display_name": "Python 3 (ipykernel)",
   "language": "python",
   "name": "python3"
  },
  "language_info": {
   "codemirror_mode": {
    "name": "ipython",
    "version": 3
   },
   "file_extension": ".py",
   "mimetype": "text/x-python",
   "name": "python",
   "nbconvert_exporter": "python",
   "pygments_lexer": "ipython3",
   "version": "3.7.5"
  }
 },
 "nbformat": 4,
 "nbformat_minor": 5
}
