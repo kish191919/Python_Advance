{
 "cells": [
  {
   "cell_type": "code",
   "execution_count": 1,
   "id": "924427d7",
   "metadata": {},
   "outputs": [],
   "source": [
    "student_details_list = [\n",
    "    {'gender': 'Male', 'score1': 95, 'score2': 88},\n",
    "    {'gender': 'Female','score1': 77, 'score2': 92 },\n",
    "    {'gender': 'Male', 'score1': 99, 'score2': 100 }\n",
    "]"
   ]
  },
  {
   "cell_type": "code",
   "execution_count": 2,
   "id": "824813d4",
   "metadata": {},
   "outputs": [],
   "source": [
    "del student_details_list[1]"
   ]
  },
  {
   "cell_type": "code",
   "execution_count": 3,
   "id": "57101187",
   "metadata": {},
   "outputs": [
    {
     "name": "stdout",
     "output_type": "stream",
     "text": [
      "[{'gender': 'Male', 'score1': 95, 'score2': 88}, {'gender': 'Male', 'score1': 99, 'score2': 100}]\n"
     ]
    }
   ],
   "source": [
    "print(student_details_list)"
   ]
  },
  {
   "cell_type": "code",
   "execution_count": 8,
   "id": "37e250a8",
   "metadata": {},
   "outputs": [],
   "source": [
    "student_names_list = ['Kim', 'Lee','Park','Lee']"
   ]
  },
  {
   "cell_type": "code",
   "execution_count": 9,
   "id": "2180fe3c",
   "metadata": {},
   "outputs": [],
   "source": [
    "student_names_list.remove('Lee')"
   ]
  },
  {
   "cell_type": "code",
   "execution_count": 10,
   "id": "f1656ef4",
   "metadata": {},
   "outputs": [
    {
     "data": {
      "text/plain": [
       "['Kim', 'Park', 'Lee']"
      ]
     },
     "execution_count": 10,
     "metadata": {},
     "output_type": "execute_result"
    }
   ],
   "source": [
    "student_names_list"
   ]
  },
  {
   "cell_type": "code",
   "execution_count": null,
   "id": "145e47c1",
   "metadata": {},
   "outputs": [],
   "source": []
  }
 ],
 "metadata": {
  "kernelspec": {
   "display_name": "Python 3 (ipykernel)",
   "language": "python",
   "name": "python3"
  },
  "language_info": {
   "codemirror_mode": {
    "name": "ipython",
    "version": 3
   },
   "file_extension": ".py",
   "mimetype": "text/x-python",
   "name": "python",
   "nbconvert_exporter": "python",
   "pygments_lexer": "ipython3",
   "version": "3.7.5"
  }
 },
 "nbformat": 4,
 "nbformat_minor": 5
}
